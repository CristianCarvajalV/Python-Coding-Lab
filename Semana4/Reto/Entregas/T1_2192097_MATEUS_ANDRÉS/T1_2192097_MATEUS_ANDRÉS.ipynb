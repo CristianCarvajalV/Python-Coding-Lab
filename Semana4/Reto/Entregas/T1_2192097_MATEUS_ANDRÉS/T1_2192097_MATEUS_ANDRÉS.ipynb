{
 "cells": [
  {
   "cell_type": "markdown",
   "id": "0d7e300c",
   "metadata": {},
   "source": [
    "TALLER 1  ,  \n",
    "Todas las unidades estan ya sea en megapascales para esfuerzos o en newton para fuerzas"
   ]
  },
  {
   "cell_type": "code",
   "execution_count": 24,
   "id": "bbb70b13",
   "metadata": {},
   "outputs": [],
   "source": [
    "import sympy as sp"
   ]
  },
  {
   "cell_type": "code",
   "execution_count": 134,
   "id": "1b842095",
   "metadata": {},
   "outputs": [],
   "source": [
    "x=2+1+9+2+0+9+7\n",
    "l_barra=0.2*int(x)\n",
    "l_cables=1.5\n",
    "d_cable=6.35\n",
    "d_pernos=12.7\n",
    "d_platina=12.7\n",
    "ef_t=250\n",
    "ef_c=145\n",
    "Fsf=1.6\n",
    "Fsu=1.9\n",
    "incognitas=5\n",
    "ecuaciones=3\n",
    "pi=3.14159265359\n",
    "E=200000"
   ]
  },
  {
   "cell_type": "code",
   "execution_count": 110,
   "id": "45ef202e",
   "metadata": {},
   "outputs": [],
   "source": [
    "GIE=int(incognitas)-int(ecuaciones)"
   ]
  },
  {
   "cell_type": "code",
   "execution_count": 135,
   "id": "26573d1a",
   "metadata": {},
   "outputs": [],
   "source": [
    "cos4=0.766044\n",
    "sen4=0.642788\n",
    "cos5=0.642788\n",
    "sen5=0.766044"
   ]
  },
  {
   "cell_type": "code",
   "execution_count": 112,
   "id": "8ee8adad",
   "metadata": {},
   "outputs": [],
   "source": [
    "Ay, Ax, W, F_BE, F_BC, F_BD = sp.symbols('Ay Ax W F_BE F_BC F_BD')"
   ]
  },
  {
   "cell_type": "markdown",
   "id": "288e1dea",
   "metadata": {},
   "source": [
    " Resolviendo sumatoria de fuerzas en x tenemos que:\n",
    "    Fx= Ax + F_EB*COS(40) - FCB*COS(50)"
   ]
  },
  {
   "cell_type": "markdown",
   "id": "3bcf1921",
   "metadata": {},
   "source": [
    "Resolviendo sumatoria de fuerzas en x tenemos que:\n",
    "    Fy=Ay+F_BE*SEN(40)+F_CB*SEN(50)+F_BD-6*W"
   ]
  },
  {
   "cell_type": "markdown",
   "id": "cca216ae",
   "metadata": {},
   "source": [
    "Resolviendo sumatoria de Momentos en A tenemos que:\n",
    "    Ma= -18*W + 6*F_BE*SEN(40) + 6*F_BC*SEN(50) + 6*F_BD"
   ]
  },
  {
   "cell_type": "markdown",
   "id": "f096dfc0",
   "metadata": {},
   "source": [
    "Para obtener las otras dos ecuaciones se utilizan ecuaciones de compatibilidad que surgen del diagrama de deformaciones en la estructura, de alli obtenemos que:\n",
    "    F_BC=1.1917536*F_BE  ,   \n",
    "    F_BD=1.5557*F_BE"
   ]
  },
  {
   "cell_type": "markdown",
   "id": "f0721539",
   "metadata": {},
   "source": [
    "solucionando el sistema tenemos que: F_BE = 0.96*W  ,  F_BC=1.1491 , F_BD= 1.4935*W"
   ]
  },
  {
   "cell_type": "markdown",
   "id": "8a67af4c",
   "metadata": {},
   "source": [
    "Reemplazando en las ecuaciones de sumatoria de fuerzas podemos encontrar:\n",
    "    Ay=3.009*W  , Ax= 3.225x10^-3*W"
   ]
  },
  {
   "cell_type": "code",
   "execution_count": 113,
   "id": "59c02910",
   "metadata": {},
   "outputs": [],
   "source": [
    "#Ay=3.009*W\n",
    "#Ax=0.003225*W\n",
    "#F_BE=0.96*W\n",
    "#F_BC=1.1491*W\n",
    "#F_BD=1.4935*W\n",
    "Ay=3.009\n",
    "Ax=0.003225\n",
    "F_BE=0.96\n",
    "F_BC=1.1491\n",
    "F_BD=1.4935\n",
    "area_cable=(d_cable/2)**2*pi"
   ]
  },
  {
   "cell_type": "markdown",
   "id": "1cf441ea",
   "metadata": {},
   "source": [
    "#DISEÑO DE CABLES"
   ]
  },
  {
   "cell_type": "code",
   "execution_count": 114,
   "id": "8c1b7e96",
   "metadata": {},
   "outputs": [
    {
     "data": {
      "text/plain": [
       "'4306.252915813965N'"
      ]
     },
     "execution_count": 114,
     "metadata": {},
     "output_type": "execute_result"
    }
   ],
   "source": [
    "W_BC=((ef_t/Fsf)*area_cable)/F_BC\n",
    "str(W_BC) + \"N\""
   ]
  },
  {
   "cell_type": "code",
   "execution_count": 115,
   "id": "36ece92d",
   "metadata": {},
   "outputs": [
    {
     "data": {
      "text/plain": [
       "'5154.495026626903N'"
      ]
     },
     "execution_count": 115,
     "metadata": {},
     "output_type": "execute_result"
    }
   ],
   "source": [
    "W_BE=((ef_t/Fsf)*area_cable)/F_BE\n",
    "str(W_BE)+ \"N\""
   ]
  },
  {
   "cell_type": "code",
   "execution_count": 116,
   "id": "888a48f6",
   "metadata": {},
   "outputs": [
    {
     "data": {
      "text/plain": [
       "'3313.234165089941N'"
      ]
     },
     "execution_count": 116,
     "metadata": {},
     "output_type": "execute_result"
    }
   ],
   "source": [
    "W_BD=((ef_t/Fsf)*area_cable)/F_BD\n",
    "str(W_BD) +\"N\""
   ]
  },
  {
   "cell_type": "markdown",
   "id": "dc55fe91",
   "metadata": {},
   "source": [
    "#DISEÑO DE PERNOS"
   ]
  },
  {
   "cell_type": "code",
   "execution_count": 117,
   "id": "47eb3e16",
   "metadata": {},
   "outputs": [],
   "source": [
    "area_perno=(d_pernos/2)**2*pi"
   ]
  },
  {
   "cell_type": "code",
   "execution_count": 118,
   "id": "4cda5360",
   "metadata": {},
   "outputs": [
    {
     "data": {
      "text/plain": [
       "'3.009001728252245W'"
      ]
     },
     "execution_count": 118,
     "metadata": {},
     "output_type": "execute_result"
    }
   ],
   "source": [
    "import math\n",
    "AR= math.sqrt(Ay**2 + Ax**2)\n",
    "str(AR)+\"W\""
   ]
  },
  {
   "cell_type": "code",
   "execution_count": 119,
   "id": "9412a369",
   "metadata": {},
   "outputs": [
    {
     "data": {
      "text/plain": [
       "'0.011876681724183007W'"
      ]
     },
     "execution_count": 119,
     "metadata": {},
     "output_type": "execute_result"
    }
   ],
   "source": [
    "Cortante_a= AR/(2*area_perno)\n",
    "str(Cortante_a)+ \"W\""
   ]
  },
  {
   "cell_type": "code",
   "execution_count": 120,
   "id": "d9898e9a",
   "metadata": {},
   "outputs": [
    {
     "data": {
      "text/plain": [
       "'7630.498324752747N'"
      ]
     },
     "execution_count": 120,
     "metadata": {},
     "output_type": "execute_result"
    }
   ],
   "source": [
    "Wmax_cortante=(ef_c/Fsf)/Cortante_a\n",
    "str(Wmax_cortante)+ \"N\""
   ]
  },
  {
   "cell_type": "code",
   "execution_count": 121,
   "id": "accf5a3e",
   "metadata": {},
   "outputs": [
    {
     "data": {
      "text/plain": [
       "'0.018655848026859975W'"
      ]
     },
     "execution_count": 121,
     "metadata": {},
     "output_type": "execute_result"
    }
   ],
   "source": [
    "Area_contacto=d_pernos*d_platina\n",
    "Aplastamiento_a1=AR/Area_contacto\n",
    "str(Aplastamiento_a1)+\"W\""
   ]
  },
  {
   "cell_type": "code",
   "execution_count": 122,
   "id": "6687a53d",
   "metadata": {},
   "outputs": [
    {
     "data": {
      "text/plain": [
       "'8375.389838887904N'"
      ]
     },
     "execution_count": 122,
     "metadata": {},
     "output_type": "execute_result"
    }
   ],
   "source": [
    "Wmax_aplastamiento1=(ef_t/Fsf)/Aplastamiento_a1\n",
    "str(Wmax_aplastamiento1)+\"N\""
   ]
  },
  {
   "cell_type": "code",
   "execution_count": 123,
   "id": "8b2872da",
   "metadata": {},
   "outputs": [
    {
     "data": {
      "text/plain": [
       "'1.999503999007998e-05W'"
      ]
     },
     "execution_count": 123,
     "metadata": {},
     "output_type": "execute_result"
    }
   ],
   "source": [
    "Aplastamiento_a2=Ax/Area_contacto\n",
    "str(Aplastamiento_a2)+\"W\""
   ]
  },
  {
   "cell_type": "code",
   "execution_count": 124,
   "id": "42184e85",
   "metadata": {},
   "outputs": [
    {
     "data": {
      "text/plain": [
       "'7814437.984496124N'"
      ]
     },
     "execution_count": 124,
     "metadata": {},
     "output_type": "execute_result"
    }
   ],
   "source": [
    "Wmax_aplastamiento2=(ef_t/Fsf)/Aplastamiento_a2\n",
    "str(Wmax_aplastamiento2)+\"N\""
   ]
  },
  {
   "cell_type": "code",
   "execution_count": 125,
   "id": "56158908",
   "metadata": {},
   "outputs": [
    {
     "data": {
      "text/plain": [
       "[4306.252915813965,\n",
       " 3313.234165089941,\n",
       " 5154.495026626903,\n",
       " 7630.498324752747,\n",
       " 8375.389838887904,\n",
       " 7814437.984496124]"
      ]
     },
     "execution_count": 125,
     "metadata": {},
     "output_type": "execute_result"
    }
   ],
   "source": [
    "lista_w=[W_BC, W_BD, W_BE, Wmax_cortante, Wmax_aplastamiento1, Wmax_aplastamiento2]\n",
    "lista_w"
   ]
  },
  {
   "cell_type": "markdown",
   "id": "e547e1d1",
   "metadata": {},
   "source": [
    "#PARTE DOS:  \n",
    "Como se puede observar el valor maximo que puede llegar a tomar W es de 3313.234165089941N Ya que si se supera este valor el elemento BD fallara.   ,  \n",
    "Asumiendo este valor como nuestro W tenemos que:"
   ]
  },
  {
   "cell_type": "code",
   "execution_count": 126,
   "id": "1c8a81b4",
   "metadata": {},
   "outputs": [],
   "source": [
    "W=3313.234165089941"
   ]
  },
  {
   "cell_type": "code",
   "execution_count": 129,
   "id": "d7c17b53",
   "metadata": {},
   "outputs": [
    {
     "data": {
      "text/plain": [
       "'9969.521602755633N'"
      ]
     },
     "execution_count": 129,
     "metadata": {},
     "output_type": "execute_result"
    }
   ],
   "source": [
    "Ay=3.009*W\n",
    "str(Ay)+\"N\""
   ]
  },
  {
   "cell_type": "code",
   "execution_count": 130,
   "id": "49fc4aed",
   "metadata": {},
   "outputs": [
    {
     "data": {
      "text/plain": [
       "'10.68518018241506N'"
      ]
     },
     "execution_count": 130,
     "metadata": {},
     "output_type": "execute_result"
    }
   ],
   "source": [
    "Ax=0.003225*W\n",
    "str(Ax)+\"N\""
   ]
  },
  {
   "cell_type": "code",
   "execution_count": 131,
   "id": "9209689c",
   "metadata": {},
   "outputs": [
    {
     "data": {
      "text/plain": [
       "'3180.7047984863434N'"
      ]
     },
     "execution_count": 131,
     "metadata": {},
     "output_type": "execute_result"
    }
   ],
   "source": [
    "F_BE=0.96*W\n",
    "str(F_BE)+\"N\""
   ]
  },
  {
   "cell_type": "code",
   "execution_count": 139,
   "id": "7af06711",
   "metadata": {},
   "outputs": [
    {
     "data": {
      "text/plain": [
       "'0.0007532641446267158mm'"
      ]
     },
     "execution_count": 139,
     "metadata": {},
     "output_type": "execute_result"
    }
   ],
   "source": [
    "delta_BE=(F_BE*l_cables)/(area_cable*E)\n",
    "str(delta_BE)+\"mm\""
   ]
  },
  {
   "cell_type": "code",
   "execution_count": 132,
   "id": "d6760e0c",
   "metadata": {},
   "outputs": [
    {
     "data": {
      "text/plain": [
       "'3807.2373791048512N'"
      ]
     },
     "execution_count": 132,
     "metadata": {},
     "output_type": "execute_result"
    }
   ],
   "source": [
    "F_BC=1.1491*W\n",
    "str(F_BC)+\"N\""
   ]
  },
  {
   "cell_type": "code",
   "execution_count": 138,
   "id": "e71d7e15",
   "metadata": {},
   "outputs": [
    {
     "data": {
      "text/plain": [
       "'0.0009016414881151657mm'"
      ]
     },
     "execution_count": 138,
     "metadata": {},
     "output_type": "execute_result"
    }
   ],
   "source": [
    "delta_BC=(F_BC*l_cables)/(area_cable*E)\n",
    "str(delta_BC)+\"mm\""
   ]
  },
  {
   "cell_type": "code",
   "execution_count": 133,
   "id": "804bf57b",
   "metadata": {},
   "outputs": [
    {
     "data": {
      "text/plain": [
       "'4948.315225561827N'"
      ]
     },
     "execution_count": 133,
     "metadata": {},
     "output_type": "execute_result"
    }
   ],
   "source": [
    "F_BD=1.4935*W\n",
    "str(F_BD)+\"N\""
   ]
  },
  {
   "cell_type": "code",
   "execution_count": 140,
   "id": "add12319",
   "metadata": {},
   "outputs": [
    {
     "data": {
      "text/plain": [
       "'0.0011718750000000002mm'"
      ]
     },
     "execution_count": 140,
     "metadata": {},
     "output_type": "execute_result"
    }
   ],
   "source": [
    "delta_BD=(F_BD*l_cables)/(area_cable*E)\n",
    "str(delta_BD)+\"mm\""
   ]
  },
  {
   "cell_type": "code",
   "execution_count": null,
   "id": "f5cc1575",
   "metadata": {},
   "outputs": [],
   "source": []
  }
 ],
 "metadata": {
  "kernelspec": {
   "display_name": "Python 3 (ipykernel)",
   "language": "python",
   "name": "python3"
  },
  "language_info": {
   "codemirror_mode": {
    "name": "ipython",
    "version": 3
   },
   "file_extension": ".py",
   "mimetype": "text/x-python",
   "name": "python",
   "nbconvert_exporter": "python",
   "pygments_lexer": "ipython3",
   "version": "3.10.1"
  }
 },
 "nbformat": 4,
 "nbformat_minor": 5
}
