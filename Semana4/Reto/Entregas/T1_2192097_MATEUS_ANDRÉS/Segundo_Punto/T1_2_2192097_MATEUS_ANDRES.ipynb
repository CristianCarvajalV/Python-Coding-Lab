{
 "cells": [
  {
   "cell_type": "code",
   "execution_count": 76,
   "id": "e8412945",
   "metadata": {},
   "outputs": [],
   "source": [
    "import sympy as sp\n",
    "import numpy as np "
   ]
  },
  {
   "cell_type": "code",
   "execution_count": 77,
   "id": "ad992354",
   "metadata": {},
   "outputs": [
    {
     "data": {
      "text/plain": [
       "0"
      ]
     },
     "execution_count": 77,
     "metadata": {},
     "output_type": "execute_result"
    }
   ],
   "source": [
    "numero_elementos=7\n",
    "reacciones=3\n",
    "nodos=5\n",
    "Distancia_AB=2\n",
    "Distancia_BC=2\n",
    "Distancia_AD=1\n",
    "Distancia_DE=2\n",
    "Distancia_BE=1\n",
    "Distancia_AE=np.sqrt((Distancia_AB**2)+(Distancia_BE**2))\n",
    "Distancia_CE=Distancia_AE\n",
    "GIE=2*int(nodos)-(int(reacciones)+int(numero_elementos))\n",
    "GIE"
   ]
  },
  {
   "cell_type": "markdown",
   "id": "469b2d47",
   "metadata": {},
   "source": [
    "Funcion carga"
   ]
  },
  {
   "cell_type": "code",
   "execution_count": 82,
   "id": "121b381a",
   "metadata": {},
   "outputs": [
    {
     "data": {
      "text/latex": [
       "$\\displaystyle 0.025 x + 20$"
      ],
      "text/plain": [
       "0.025*x + 20"
      ]
     },
     "execution_count": 82,
     "metadata": {},
     "output_type": "execute_result"
    }
   ],
   "source": [
    "Ay, Ax, Dx, P, x, Fx, Fy, sen_x, cos_x, M, a=sp.symbols('Ay Ax Dx P x Fx Fy sen_x cos_x M a')\n",
    "#angulo=0°<x<180°\n",
    "m=float((20.25-20)/(10-0))\n",
    "b=int(20)\n",
    "P=m*x+b\n",
    "P\n"
   ]
  },
  {
   "cell_type": "markdown",
   "id": "2f714674",
   "metadata": {},
   "source": [
    "Ecuaciones"
   ]
  },
  {
   "cell_type": "code",
   "execution_count": 84,
   "id": "480a6bf3",
   "metadata": {},
   "outputs": [],
   "source": [
    "Fx=Ax+Dx+P*sen_x\n",
    "Fy=Ay+P*cos_x\n",
    "M=Dx+4*P*cos_x"
   ]
  },
  {
   "cell_type": "code",
   "execution_count": 85,
   "id": "386c0be3",
   "metadata": {},
   "outputs": [
    {
     "data": {
      "text/latex": [
       "$\\displaystyle Ax + Dx + sen_{x} \\left(0.025 x + 20\\right)$"
      ],
      "text/plain": [
       "Ax + Dx + sen_x*(0.025*x + 20)"
      ]
     },
     "execution_count": 85,
     "metadata": {},
     "output_type": "execute_result"
    }
   ],
   "source": [
    "Fx"
   ]
  },
  {
   "cell_type": "code",
   "execution_count": 86,
   "id": "83427434",
   "metadata": {},
   "outputs": [
    {
     "data": {
      "text/latex": [
       "$\\displaystyle Ay + cos_{x} \\left(0.025 x + 20\\right)$"
      ],
      "text/plain": [
       "Ay + cos_x*(0.025*x + 20)"
      ]
     },
     "execution_count": 86,
     "metadata": {},
     "output_type": "execute_result"
    }
   ],
   "source": [
    "Fy"
   ]
  },
  {
   "cell_type": "code",
   "execution_count": 87,
   "id": "5bec7315",
   "metadata": {},
   "outputs": [
    {
     "data": {
      "text/latex": [
       "$\\displaystyle Dx + cos_{x} \\left(0.1 x + 80\\right)$"
      ],
      "text/plain": [
       "Dx + cos_x*(0.1*x + 80)"
      ]
     },
     "execution_count": 87,
     "metadata": {},
     "output_type": "execute_result"
    }
   ],
   "source": [
    "M"
   ]
  },
  {
   "cell_type": "markdown",
   "id": "b5339b32",
   "metadata": {},
   "source": [
    "Solucion por Nodos"
   ]
  },
  {
   "cell_type": "code",
   "execution_count": 88,
   "id": "a85293d6",
   "metadata": {},
   "outputs": [],
   "source": [
    "\n",
    "R_DE, R_AD, R_AB, R_AE, R_BE, R_BC, R_AB, R_BC, R_CE=sp.symbols('R_DE R_AD R_AB R_AE R_BE R_BC R_AB R_BC R_CE')\n",
    "angulo_AB=float(np.arctan((Distancia_BE/Distancia_AB)))\n",
    "angulo_AB=(180*angulo_AB)/np.pi\n",
    "SAB=np.sin(np.radians(angulo_AB))\n",
    "CAB=np.cos(np.radians(angulo_AB))"
   ]
  },
  {
   "cell_type": "code",
   "execution_count": 89,
   "id": "93b12ed7",
   "metadata": {},
   "outputs": [],
   "source": [
    "#Nodo_D\n",
    "R_DE=Dx\n",
    "R_AD=0"
   ]
  },
  {
   "cell_type": "code",
   "execution_count": 90,
   "id": "1aafc893",
   "metadata": {},
   "outputs": [],
   "source": [
    "#Nodo_A\n",
    "Fax=Ax+R_AB+R_AE*CAB\n",
    "Fay=Ay-R_AE*SAB"
   ]
  },
  {
   "cell_type": "code",
   "execution_count": 91,
   "id": "86d31268",
   "metadata": {},
   "outputs": [],
   "source": [
    "#Nodo_B\n",
    "R_BE=0\n",
    "R_BC=R_AB"
   ]
  },
  {
   "cell_type": "code",
   "execution_count": 95,
   "id": "88b8c783",
   "metadata": {},
   "outputs": [
    {
     "data": {
      "text/latex": [
       "$\\displaystyle - 0.447213595499958 R_{CE} + cos_{x} \\left(0.025 x + 20\\right)$"
      ],
      "text/plain": [
       "-0.447213595499958*R_CE + cos_x*(0.025*x + 20)"
      ]
     },
     "execution_count": 95,
     "metadata": {},
     "output_type": "execute_result"
    }
   ],
   "source": [
    "#Nodo_C\n",
    "Fcx=-R_BC+P*sen_x-R_CE*CAB\n",
    "Fcy=P*cos_x-R_CE*SAB\n",
    "Fcy"
   ]
  },
  {
   "cell_type": "code",
   "execution_count": 97,
   "id": "004c7d9c",
   "metadata": {},
   "outputs": [
    {
     "data": {
      "text/plain": [
       "array([  0,  10,  20,  30,  40,  50,  60,  70,  80,  90, 100, 110, 120,\n",
       "       130, 140, 150, 160, 170, 180])"
      ]
     },
     "execution_count": 97,
     "metadata": {},
     "output_type": "execute_result"
    }
   ],
   "source": [
    "x=np.arange(0, 190, 10)\n",
    "x"
   ]
  },
  {
   "cell_type": "code",
   "execution_count": 100,
   "id": "6c6a8605",
   "metadata": {},
   "outputs": [
    {
     "data": {
      "text/plain": [
       "[array([20.  , 20.25, 20.5 , 20.75, 21.  , 21.25, 21.5 , 21.75, 22.  ,\n",
       "        22.25, 22.5 , 22.75, 23.  , 23.25, 23.5 , 23.75, 24.  , 24.25,\n",
       "        24.5 ])]"
      ]
     },
     "execution_count": 100,
     "metadata": {},
     "output_type": "execute_result"
    }
   ],
   "source": [
    "P=m*x+b\n",
    "cargas=[P]\n",
    "cargas\n"
   ]
  },
  {
   "cell_type": "code",
   "execution_count": null,
   "id": "d6f82e7b",
   "metadata": {},
   "outputs": [],
   "source": []
  },
  {
   "cell_type": "code",
   "execution_count": 48,
   "id": "8d5a4b16",
   "metadata": {},
   "outputs": [
    {
     "data": {
      "text/plain": [
       "3.141592653589793"
      ]
     },
     "execution_count": 48,
     "metadata": {},
     "output_type": "execute_result"
    }
   ],
   "source": []
  },
  {
   "cell_type": "code",
   "execution_count": null,
   "id": "7bf6a8fc",
   "metadata": {},
   "outputs": [],
   "source": []
  }
 ],
 "metadata": {
  "kernelspec": {
   "display_name": "Python 3 (ipykernel)",
   "language": "python",
   "name": "python3"
  },
  "language_info": {
   "codemirror_mode": {
    "name": "ipython",
    "version": 3
   },
   "file_extension": ".py",
   "mimetype": "text/x-python",
   "name": "python",
   "nbconvert_exporter": "python",
   "pygments_lexer": "ipython3",
   "version": "3.10.1"
  }
 },
 "nbformat": 4,
 "nbformat_minor": 5
}
