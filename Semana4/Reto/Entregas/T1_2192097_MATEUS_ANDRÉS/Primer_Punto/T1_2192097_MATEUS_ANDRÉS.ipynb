{
 "cells": [
  {
   "cell_type": "markdown",
   "id": "0d7e300c",
   "metadata": {},
   "source": [
    "TALLER 1  ,  \n",
    "Todas las unidades estan ya sea en megapascales para esfuerzos o en newton para fuerzas"
   ]
  },
  {
   "cell_type": "code",
   "execution_count": 2,
   "id": "bbb70b13",
   "metadata": {},
   "outputs": [],
   "source": [
    "import sympy as sp\n",
    "import numpy as np \n"
   ]
  },
  {
   "cell_type": "code",
   "execution_count": 3,
   "id": "1b842095",
   "metadata": {},
   "outputs": [],
   "source": [
    "x=2+1+9+2+0+9+7\n",
    "l_barra=0.2*int(x)\n",
    "l_cables=1.5\n",
    "d_cable=6.35\n",
    "d_pernos=12.7\n",
    "d_platina=12.7\n",
    "ef_t=250\n",
    "ef_c=145\n",
    "Fsf=1.6\n",
    "Fsu=1.9\n",
    "incognitas=5\n",
    "ecuaciones=3\n",
    "pi=3.14159265359\n",
    "E=200000"
   ]
  },
  {
   "cell_type": "code",
   "execution_count": 4,
   "id": "45ef202e",
   "metadata": {},
   "outputs": [
    {
     "data": {
      "text/plain": [
       "2"
      ]
     },
     "execution_count": 4,
     "metadata": {},
     "output_type": "execute_result"
    }
   ],
   "source": [
    "GIE=int(incognitas)-int(ecuaciones)\n",
    "GIE"
   ]
  },
  {
   "cell_type": "code",
   "execution_count": 9,
   "id": "26573d1a",
   "metadata": {},
   "outputs": [
    {
     "data": {
      "text/plain": [
       "0.6427876096865393"
      ]
     },
     "execution_count": 9,
     "metadata": {},
     "output_type": "execute_result"
    }
   ],
   "source": [
    "cos4=np.cos(np.radians(40))\n",
    "sen4=np.sin(np.radians(40))\n",
    "cos5=np.cos(np.radians(50))\n",
    "sen5=np.sin(np.radians(50))"
   ]
  },
  {
   "cell_type": "code",
   "execution_count": 27,
   "id": "8ee8adad",
   "metadata": {},
   "outputs": [
    {
     "data": {
      "text/latex": [
       "$\\displaystyle F_{BC}$"
      ],
      "text/plain": [
       "F_BC"
      ]
     },
     "execution_count": 27,
     "metadata": {},
     "output_type": "execute_result"
    }
   ],
   "source": [
    "Ay, Ax, W = sp.symbols('Ay Ax W ')\n",
    "F_BE, F_BC, F_BD, Fx, Fy, Ma= sp.symbols('F_BE F_BC F_BD Fx Fy Ma')\n",
    "#a=np.array([[1,0,cos4,-cos5,0],[0,1,sen4,sen5,1],[0,0,6*sen4,6*sen5,6],[0,0,1.1917356,-1,0],[0,0,1.5557,0,-1]])\n",
    "#b=np.array([0,6,18,0,0])\n",
    "#x=np.linalg.solve(a,b)\n",
    "#print(x)\n",
    "F_BC"
   ]
  },
  {
   "cell_type": "code",
   "execution_count": 28,
   "id": "7c62fd61",
   "metadata": {},
   "outputs": [
    {
     "data": {
      "text/latex": [
       "$\\displaystyle Ax - 0.642788 F_{BC} + 0.766044 F_{BE}$"
      ],
      "text/plain": [
       "Ax - 0.642788*F_BC + 0.766044*F_BE"
      ]
     },
     "execution_count": 28,
     "metadata": {},
     "output_type": "execute_result"
    }
   ],
   "source": [
    "#Resolviendo sumatoria de fuerzas en x tenemos que:\n",
    "Fx= Ax + F_BE*cos4-F_BC*cos5\n",
    "Fx"
   ]
  },
  {
   "cell_type": "code",
   "execution_count": 29,
   "id": "f2158ced",
   "metadata": {},
   "outputs": [
    {
     "data": {
      "text/latex": [
       "$\\displaystyle Ay + 0.766044 F_{BC} + F_{BD} + 0.642788 F_{BE} - 6 W$"
      ],
      "text/plain": [
       "Ay + 0.766044*F_BC + F_BD + 0.642788*F_BE - 6*W"
      ]
     },
     "execution_count": 29,
     "metadata": {},
     "output_type": "execute_result"
    }
   ],
   "source": [
    "#Resolviendo sumatoria de fuerzas en y tenemos que:\n",
    "Fy=Ay+F_BE*sen4+F_BC*sen5+F_BD-6*W\n",
    "Fy"
   ]
  },
  {
   "cell_type": "code",
   "execution_count": 30,
   "id": "3fa8e000",
   "metadata": {},
   "outputs": [
    {
     "data": {
      "text/latex": [
       "$\\displaystyle 4.596264 F_{BC} + 6 F_{BD} + 3.856728 F_{BE} - 18 W$"
      ],
      "text/plain": [
       "4.596264*F_BC + 6*F_BD + 3.856728*F_BE - 18*W"
      ]
     },
     "execution_count": 30,
     "metadata": {},
     "output_type": "execute_result"
    }
   ],
   "source": [
    "#Resolviendo sumatoria de Momentos en A tenemos que:\n",
    "Ma= -18*W + 6*F_BE*sen4 + 6*F_BC*sen5 + 6*F_BD\n",
    "Ma"
   ]
  },
  {
   "cell_type": "code",
   "execution_count": 31,
   "id": "532ab020",
   "metadata": {},
   "outputs": [],
   "source": [
    "#Para obtener las otras dos ecuaciones se utilizan ecuaciones de compatibilidad que surgen del diagrama de deformaciones \n",
    "#en la estructura, de alli obtenemos que:\n",
    "F_BC=1.1917536*F_BE  \n",
    "F_BD=1.5557*F_BE"
   ]
  },
  {
   "cell_type": "code",
   "execution_count": 32,
   "id": "438116c8",
   "metadata": {},
   "outputs": [],
   "source": [
    "#solucionando el sistema tenemos que: \n",
    "F_BE = 0.96*W  \n",
    "F_BC=1.1491*W \n",
    "F_BD= 1.4935*W"
   ]
  },
  {
   "cell_type": "code",
   "execution_count": 33,
   "id": "52171bb1",
   "metadata": {},
   "outputs": [],
   "source": [
    "#Reemplazando en las ecuaciones de sumatoria de fuerzas podemos encontrar:\n",
    "Ay=3.009*W  \n",
    "Ax=3.225e-3*W"
   ]
  },
  {
   "cell_type": "code",
   "execution_count": 34,
   "id": "59c02910",
   "metadata": {},
   "outputs": [],
   "source": [
    "#Ay=3.009*W\n",
    "#Ax=0.003225*W\n",
    "#F_BE=0.96*W\n",
    "#F_BC=1.1491*W\n",
    "#F_BD=1.4935*W\n",
    "Ay=3.009\n",
    "Ax=0.003225\n",
    "F_BE=0.96\n",
    "F_BC=1.1491\n",
    "F_BD=1.4935\n",
    "area_cable=(d_cable/2)**2*pi"
   ]
  },
  {
   "cell_type": "markdown",
   "id": "1cf441ea",
   "metadata": {},
   "source": [
    "#DISEÑO DE CABLES"
   ]
  },
  {
   "cell_type": "code",
   "execution_count": 35,
   "id": "8c1b7e96",
   "metadata": {},
   "outputs": [
    {
     "data": {
      "text/plain": [
       "'4306.252915813965N'"
      ]
     },
     "execution_count": 35,
     "metadata": {},
     "output_type": "execute_result"
    }
   ],
   "source": [
    "W_BC=((ef_t/Fsf)*area_cable)/F_BC\n",
    "str(W_BC) + \"N\""
   ]
  },
  {
   "cell_type": "code",
   "execution_count": 36,
   "id": "36ece92d",
   "metadata": {},
   "outputs": [
    {
     "data": {
      "text/plain": [
       "'5154.495026626903N'"
      ]
     },
     "execution_count": 36,
     "metadata": {},
     "output_type": "execute_result"
    }
   ],
   "source": [
    "W_BE=((ef_t/Fsf)*area_cable)/F_BE\n",
    "str(W_BE)+ \"N\""
   ]
  },
  {
   "cell_type": "code",
   "execution_count": 37,
   "id": "888a48f6",
   "metadata": {},
   "outputs": [
    {
     "data": {
      "text/plain": [
       "'3313.234165089941N'"
      ]
     },
     "execution_count": 37,
     "metadata": {},
     "output_type": "execute_result"
    }
   ],
   "source": [
    "W_BD=((ef_t/Fsf)*area_cable)/F_BD\n",
    "str(W_BD) +\"N\""
   ]
  },
  {
   "cell_type": "markdown",
   "id": "dc55fe91",
   "metadata": {},
   "source": [
    "#DISEÑO DE PERNOS"
   ]
  },
  {
   "cell_type": "code",
   "execution_count": 38,
   "id": "47eb3e16",
   "metadata": {},
   "outputs": [],
   "source": [
    "area_perno=(d_pernos/2)**2*pi"
   ]
  },
  {
   "cell_type": "code",
   "execution_count": 39,
   "id": "4cda5360",
   "metadata": {},
   "outputs": [
    {
     "data": {
      "text/plain": [
       "'3.009001728252245W'"
      ]
     },
     "execution_count": 39,
     "metadata": {},
     "output_type": "execute_result"
    }
   ],
   "source": [
    "import math\n",
    "AR= math.sqrt(Ay**2 + Ax**2)\n",
    "str(AR)+\"W\""
   ]
  },
  {
   "cell_type": "code",
   "execution_count": 40,
   "id": "9412a369",
   "metadata": {},
   "outputs": [
    {
     "data": {
      "text/plain": [
       "'0.011876681724183007W'"
      ]
     },
     "execution_count": 40,
     "metadata": {},
     "output_type": "execute_result"
    }
   ],
   "source": [
    "Cortante_a= AR/(2*area_perno)\n",
    "str(Cortante_a)+ \"W\""
   ]
  },
  {
   "cell_type": "code",
   "execution_count": 41,
   "id": "d9898e9a",
   "metadata": {},
   "outputs": [
    {
     "data": {
      "text/plain": [
       "'7630.498324752747N'"
      ]
     },
     "execution_count": 41,
     "metadata": {},
     "output_type": "execute_result"
    }
   ],
   "source": [
    "Wmax_cortante=(ef_c/Fsf)/Cortante_a\n",
    "str(Wmax_cortante)+ \"N\""
   ]
  },
  {
   "cell_type": "code",
   "execution_count": 42,
   "id": "accf5a3e",
   "metadata": {},
   "outputs": [
    {
     "data": {
      "text/plain": [
       "'0.018655848026859975W'"
      ]
     },
     "execution_count": 42,
     "metadata": {},
     "output_type": "execute_result"
    }
   ],
   "source": [
    "Area_contacto=d_pernos*d_platina\n",
    "Aplastamiento_a1=AR/Area_contacto\n",
    "str(Aplastamiento_a1)+\"W\""
   ]
  },
  {
   "cell_type": "code",
   "execution_count": 43,
   "id": "6687a53d",
   "metadata": {},
   "outputs": [
    {
     "data": {
      "text/plain": [
       "'8375.389838887904N'"
      ]
     },
     "execution_count": 43,
     "metadata": {},
     "output_type": "execute_result"
    }
   ],
   "source": [
    "Wmax_aplastamiento1=(ef_t/Fsf)/Aplastamiento_a1\n",
    "str(Wmax_aplastamiento1)+\"N\""
   ]
  },
  {
   "cell_type": "code",
   "execution_count": 44,
   "id": "8b2872da",
   "metadata": {},
   "outputs": [
    {
     "data": {
      "text/plain": [
       "'1.999503999007998e-05W'"
      ]
     },
     "execution_count": 44,
     "metadata": {},
     "output_type": "execute_result"
    }
   ],
   "source": [
    "Aplastamiento_a2=Ax/Area_contacto\n",
    "str(Aplastamiento_a2)+\"W\""
   ]
  },
  {
   "cell_type": "code",
   "execution_count": 45,
   "id": "42184e85",
   "metadata": {},
   "outputs": [
    {
     "data": {
      "text/plain": [
       "'7814437.984496124N'"
      ]
     },
     "execution_count": 45,
     "metadata": {},
     "output_type": "execute_result"
    }
   ],
   "source": [
    "Wmax_aplastamiento2=(ef_t/Fsf)/Aplastamiento_a2\n",
    "str(Wmax_aplastamiento2)+\"N\""
   ]
  },
  {
   "cell_type": "code",
   "execution_count": 46,
   "id": "56158908",
   "metadata": {},
   "outputs": [
    {
     "data": {
      "text/plain": [
       "[4306.252915813965,\n",
       " 3313.234165089941,\n",
       " 5154.495026626903,\n",
       " 7630.498324752747,\n",
       " 8375.389838887904,\n",
       " 7814437.984496124]"
      ]
     },
     "execution_count": 46,
     "metadata": {},
     "output_type": "execute_result"
    }
   ],
   "source": [
    "lista_w=[W_BC, W_BD, W_BE, Wmax_cortante, Wmax_aplastamiento1, Wmax_aplastamiento2]\n",
    "lista_w"
   ]
  },
  {
   "cell_type": "code",
   "execution_count": 50,
   "id": "42cadc98",
   "metadata": {},
   "outputs": [
    {
     "name": "stdout",
     "output_type": "stream",
     "text": [
      "Como se puede observar el valor maximo que puede llegar a tomar W es 3313.234165089941Asumiendo este valor como nuestro W tenemos que:\n"
     ]
    }
   ],
   "source": [
    "#PARTE DOS:  \n",
    "print('Como se puede observar el valor maximo que puede llegar a tomar W es '+str(min(lista_w))+'Asumiendo este valor como nuestro W tenemos que:')\n",
    "      #de 3313.234165089941N Ya que si se supera este valor el elemento BD fallara.   ,  \n"
   ]
  },
  {
   "cell_type": "code",
   "execution_count": 53,
   "id": "1c8a81b4",
   "metadata": {},
   "outputs": [
    {
     "data": {
      "text/plain": [
       "3313.234165089941"
      ]
     },
     "execution_count": 53,
     "metadata": {},
     "output_type": "execute_result"
    }
   ],
   "source": [
    "W=min(lista_w)\n",
    "W"
   ]
  },
  {
   "cell_type": "code",
   "execution_count": 54,
   "id": "d7c17b53",
   "metadata": {},
   "outputs": [
    {
     "data": {
      "text/plain": [
       "'9969.521602755633N'"
      ]
     },
     "execution_count": 54,
     "metadata": {},
     "output_type": "execute_result"
    }
   ],
   "source": [
    "Ay=3.009*W\n",
    "str(Ay)+\"N\""
   ]
  },
  {
   "cell_type": "code",
   "execution_count": 55,
   "id": "49fc4aed",
   "metadata": {},
   "outputs": [
    {
     "data": {
      "text/plain": [
       "'10.68518018241506N'"
      ]
     },
     "execution_count": 55,
     "metadata": {},
     "output_type": "execute_result"
    }
   ],
   "source": [
    "Ax=0.003225*W\n",
    "str(Ax)+\"N\""
   ]
  },
  {
   "cell_type": "code",
   "execution_count": 56,
   "id": "9209689c",
   "metadata": {},
   "outputs": [
    {
     "data": {
      "text/plain": [
       "'3180.7047984863434N'"
      ]
     },
     "execution_count": 56,
     "metadata": {},
     "output_type": "execute_result"
    }
   ],
   "source": [
    "F_BE=0.96*W\n",
    "str(F_BE)+\"N\""
   ]
  },
  {
   "cell_type": "code",
   "execution_count": 57,
   "id": "7af06711",
   "metadata": {},
   "outputs": [
    {
     "data": {
      "text/plain": [
       "'0.0007532641446267158mm'"
      ]
     },
     "execution_count": 57,
     "metadata": {},
     "output_type": "execute_result"
    }
   ],
   "source": [
    "delta_BE=(F_BE*l_cables)/(area_cable*E)\n",
    "str(delta_BE)+\"mm\""
   ]
  },
  {
   "cell_type": "code",
   "execution_count": 58,
   "id": "d6760e0c",
   "metadata": {},
   "outputs": [
    {
     "data": {
      "text/plain": [
       "'3807.2373791048512N'"
      ]
     },
     "execution_count": 58,
     "metadata": {},
     "output_type": "execute_result"
    }
   ],
   "source": [
    "F_BC=1.1491*W\n",
    "str(F_BC)+\"N\""
   ]
  },
  {
   "cell_type": "code",
   "execution_count": 59,
   "id": "e71d7e15",
   "metadata": {},
   "outputs": [
    {
     "data": {
      "text/plain": [
       "'0.0009016414881151657mm'"
      ]
     },
     "execution_count": 59,
     "metadata": {},
     "output_type": "execute_result"
    }
   ],
   "source": [
    "delta_BC=(F_BC*l_cables)/(area_cable*E)\n",
    "str(delta_BC)+\"mm\""
   ]
  },
  {
   "cell_type": "code",
   "execution_count": 60,
   "id": "804bf57b",
   "metadata": {},
   "outputs": [
    {
     "data": {
      "text/plain": [
       "'4948.315225561827N'"
      ]
     },
     "execution_count": 60,
     "metadata": {},
     "output_type": "execute_result"
    }
   ],
   "source": [
    "F_BD=1.4935*W\n",
    "str(F_BD)+\"N\""
   ]
  },
  {
   "cell_type": "code",
   "execution_count": 61,
   "id": "add12319",
   "metadata": {},
   "outputs": [
    {
     "data": {
      "text/plain": [
       "'0.0011718750000000002mm'"
      ]
     },
     "execution_count": 61,
     "metadata": {},
     "output_type": "execute_result"
    }
   ],
   "source": [
    "delta_BD=(F_BD*l_cables)/(area_cable*E)\n",
    "str(delta_BD)+\"mm\""
   ]
  },
  {
   "cell_type": "code",
   "execution_count": null,
   "id": "f5cc1575",
   "metadata": {},
   "outputs": [],
   "source": []
  },
  {
   "cell_type": "code",
   "execution_count": null,
   "id": "42cc4aec",
   "metadata": {},
   "outputs": [],
   "source": []
  },
  {
   "cell_type": "code",
   "execution_count": null,
   "id": "8bd6da53",
   "metadata": {},
   "outputs": [],
   "source": []
  }
 ],
 "metadata": {
  "kernelspec": {
   "display_name": "Python 3 (ipykernel)",
   "language": "python",
   "name": "python3"
  },
  "language_info": {
   "codemirror_mode": {
    "name": "ipython",
    "version": 3
   },
   "file_extension": ".py",
   "mimetype": "text/x-python",
   "name": "python",
   "nbconvert_exporter": "python",
   "pygments_lexer": "ipython3",
   "version": "3.10.1"
  }
 },
 "nbformat": 4,
 "nbformat_minor": 5
}
