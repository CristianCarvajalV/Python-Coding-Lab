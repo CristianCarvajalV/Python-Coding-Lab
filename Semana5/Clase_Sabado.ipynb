{
 "cells": [
  {
   "cell_type": "markdown",
   "id": "crazy-conspiracy",
   "metadata": {},
   "source": [
    "# Variables simbólicas\n",
    "\n",
    "`pip install sympy`"
   ]
  },
  {
   "cell_type": "code",
   "execution_count": 1,
   "id": "gorgeous-violence",
   "metadata": {},
   "outputs": [],
   "source": [
    "import sympy as sp"
   ]
  },
  {
   "cell_type": "code",
   "execution_count": 5,
   "id": "vietnamese-cannon",
   "metadata": {},
   "outputs": [
    {
     "data": {
      "text/plain": [
       "5"
      ]
     },
     "execution_count": 5,
     "metadata": {},
     "output_type": "execute_result"
    }
   ],
   "source": [
    "x = 5\n",
    "x"
   ]
  },
  {
   "cell_type": "code",
   "execution_count": 24,
   "id": "isolated-memorial",
   "metadata": {},
   "outputs": [
    {
     "data": {
      "text/latex": [
       "$\\displaystyle x + 1$"
      ],
      "text/plain": [
       "x + 1"
      ]
     },
     "execution_count": 24,
     "metadata": {},
     "output_type": "execute_result"
    }
   ],
   "source": [
    "# no es algebra, operacion de asignacion\n",
    "x = x + 1\n",
    "x"
   ]
  },
  {
   "cell_type": "markdown",
   "id": "handmade-kelly",
   "metadata": {},
   "source": [
    "> Sintaxis: dentro de `symbols` declaramos nuestros simbolos separados por espacio, tantos como queramos. Para obtenerlos, lo hacemos en el lado izquierdo del igual, serpardos por coma"
   ]
  },
  {
   "cell_type": "code",
   "execution_count": 95,
   "id": "complimentary-warehouse",
   "metadata": {},
   "outputs": [
    {
     "data": {
      "text/latex": [
       "$\\displaystyle x$"
      ],
      "text/plain": [
       "x"
      ]
     },
     "execution_count": 95,
     "metadata": {},
     "output_type": "execute_result"
    }
   ],
   "source": [
    "# declaramos un simbolo con la funcion symbols\n",
    "x, y, b, h = sp.symbols('x y b h')\n",
    "x"
   ]
  },
  {
   "cell_type": "code",
   "execution_count": 27,
   "id": "continuing-processing",
   "metadata": {},
   "outputs": [
    {
     "data": {
      "text/latex": [
       "$\\displaystyle y$"
      ],
      "text/plain": [
       "y"
      ]
     },
     "execution_count": 27,
     "metadata": {},
     "output_type": "execute_result"
    }
   ],
   "source": [
    "y"
   ]
  },
  {
   "cell_type": "code",
   "execution_count": 28,
   "id": "detailed-helping",
   "metadata": {},
   "outputs": [
    {
     "data": {
      "text/latex": [
       "$\\displaystyle x$"
      ],
      "text/plain": [
       "x"
      ]
     },
     "execution_count": 28,
     "metadata": {},
     "output_type": "execute_result"
    }
   ],
   "source": [
    "x"
   ]
  },
  {
   "cell_type": "code",
   "execution_count": 30,
   "id": "provincial-pharmacology",
   "metadata": {},
   "outputs": [
    {
     "data": {
      "text/latex": [
       "$\\displaystyle x + y$"
      ],
      "text/plain": [
       "x + y"
      ]
     },
     "execution_count": 30,
     "metadata": {},
     "output_type": "execute_result"
    }
   ],
   "source": [
    "expresion = x + y\n",
    "expresion"
   ]
  },
  {
   "cell_type": "code",
   "execution_count": 40,
   "id": "emotional-context",
   "metadata": {},
   "outputs": [
    {
     "data": {
      "text/latex": [
       "$\\displaystyle \\sqrt{15}$"
      ],
      "text/plain": [
       "sqrt(15)"
      ]
     },
     "execution_count": 40,
     "metadata": {},
     "output_type": "execute_result"
    }
   ],
   "source": [
    "sp.sqrt(15)"
   ]
  },
  {
   "cell_type": "code",
   "execution_count": 43,
   "id": "listed-packing",
   "metadata": {},
   "outputs": [
    {
     "data": {
      "text/latex": [
       "$\\displaystyle 3.872983346$"
      ],
      "text/plain": [
       "3.872983346"
      ]
     },
     "execution_count": 43,
     "metadata": {},
     "output_type": "execute_result"
    }
   ],
   "source": [
    "# evaluar a numero con la funcion evalf\n",
    "sp.sqrt(15).evalf(10)"
   ]
  },
  {
   "cell_type": "code",
   "execution_count": 94,
   "id": "interested-direction",
   "metadata": {},
   "outputs": [
    {
     "data": {
      "text/plain": [
       "20.0"
      ]
     },
     "execution_count": 94,
     "metadata": {},
     "output_type": "execute_result"
    }
   ],
   "source": [
    "area = b * h / 2\n",
    "area"
   ]
  },
  {
   "cell_type": "code",
   "execution_count": 38,
   "id": "acoustic-penetration",
   "metadata": {},
   "outputs": [
    {
     "data": {
      "text/latex": [
       "$\\displaystyle \\frac{1}{4}$"
      ],
      "text/plain": [
       "1/4"
      ]
     },
     "execution_count": 38,
     "metadata": {},
     "output_type": "execute_result"
    }
   ],
   "source": [
    "sp.Rational(1, 4)"
   ]
  },
  {
   "cell_type": "code",
   "execution_count": 45,
   "id": "removable-majority",
   "metadata": {},
   "outputs": [
    {
     "data": {
      "text/latex": [
       "$\\displaystyle 0.25$"
      ],
      "text/plain": [
       "0.25"
      ]
     },
     "execution_count": 45,
     "metadata": {},
     "output_type": "execute_result"
    }
   ],
   "source": [
    "sp.Rational(1, 4).evalf(2)"
   ]
  },
  {
   "cell_type": "markdown",
   "id": "applicable-shock",
   "metadata": {},
   "source": [
    "# Sustituir valores en expresiones\n",
    "> Usamos la funcion `subs`, pasando la incógnita y el valor a reemplazar"
   ]
  },
  {
   "cell_type": "code",
   "execution_count": 47,
   "id": "dried-hybrid",
   "metadata": {},
   "outputs": [
    {
     "data": {
      "text/latex": [
       "$\\displaystyle \\frac{b h}{2}$"
      ],
      "text/plain": [
       "b*h/2"
      ]
     },
     "execution_count": 47,
     "metadata": {},
     "output_type": "execute_result"
    }
   ],
   "source": [
    "area"
   ]
  },
  {
   "cell_type": "code",
   "execution_count": 49,
   "id": "narrow-horror",
   "metadata": {},
   "outputs": [
    {
     "data": {
      "text/latex": [
       "$\\displaystyle \\frac{5 h}{2}$"
      ],
      "text/plain": [
       "5*h/2"
      ]
     },
     "execution_count": 49,
     "metadata": {},
     "output_type": "execute_result"
    }
   ],
   "source": [
    "area.subs(b, 5)"
   ]
  },
  {
   "cell_type": "code",
   "execution_count": 51,
   "id": "loose-tourism",
   "metadata": {},
   "outputs": [
    {
     "data": {
      "text/latex": [
       "$\\displaystyle 1.8 x^{3} - 5 x^{2} + 0.5 x - \\frac{1}{x} + \\frac{1}{x^{2}}$"
      ],
      "text/plain": [
       "1.8*x**3 - 5*x**2 + 0.5*x - 1/x + x**(-2)"
      ]
     },
     "execution_count": 51,
     "metadata": {},
     "output_type": "execute_result"
    }
   ],
   "source": [
    "expr = x ** 3 + 4 / 5 * x ** 3 - 5 * x ** 2 + x - 1 / 2 * x - 1 / x + 1 / x ** 2\n",
    "expr"
   ]
  },
  {
   "cell_type": "code",
   "execution_count": 53,
   "id": "international-bundle",
   "metadata": {},
   "outputs": [
    {
     "data": {
      "text/latex": [
       "$\\displaystyle \\frac{h \\left(1.8 x^{3} - 5 x^{2} + 0.5 x - \\frac{1}{x} + \\frac{1}{x^{2}}\\right)}{2}$"
      ],
      "text/plain": [
       "h*(1.8*x**3 - 5*x**2 + 0.5*x - 1/x + x**(-2))/2"
      ]
     },
     "execution_count": 53,
     "metadata": {},
     "output_type": "execute_result"
    }
   ],
   "source": [
    "area.subs(b, expr)"
   ]
  },
  {
   "cell_type": "code",
   "execution_count": 55,
   "id": "infectious-queensland",
   "metadata": {},
   "outputs": [
    {
     "data": {
      "text/latex": [
       "$\\displaystyle 25$"
      ],
      "text/plain": [
       "25"
      ]
     },
     "execution_count": 55,
     "metadata": {},
     "output_type": "execute_result"
    }
   ],
   "source": [
    "# reemplazar mas de un simbolo a la vez\n",
    "area.subs([(b, 5), (h, 10)])"
   ]
  },
  {
   "cell_type": "markdown",
   "id": "lesbian-alfred",
   "metadata": {},
   "source": [
    "# Más operaciones con símbolos"
   ]
  },
  {
   "cell_type": "code",
   "execution_count": 57,
   "id": "desperate-looking",
   "metadata": {},
   "outputs": [
    {
     "data": {
      "text/latex": [
       "$\\displaystyle 1.8 x^{3} - 5 x^{2} + 0.5 x - \\frac{1}{x} + \\frac{1}{x^{2}}$"
      ],
      "text/plain": [
       "1.8*x**3 - 5*x**2 + 0.5*x - 1/x + x**(-2)"
      ]
     },
     "execution_count": 57,
     "metadata": {},
     "output_type": "execute_result"
    }
   ],
   "source": [
    "# factorizar\n",
    "expr"
   ]
  },
  {
   "cell_type": "code",
   "execution_count": 59,
   "id": "northern-visitor",
   "metadata": {},
   "outputs": [
    {
     "data": {
      "text/latex": [
       "$\\displaystyle \\frac{5.0 \\left(0.36 x^{5} - 1.0 x^{4} + 0.1 x^{3} - 0.2 x + 0.2\\right)}{x^{2}}$"
      ],
      "text/plain": [
       "5.0*(0.36*x**5 - 1.0*x**4 + 0.1*x**3 - 0.2*x + 0.2)/x**2"
      ]
     },
     "execution_count": 59,
     "metadata": {},
     "output_type": "execute_result"
    }
   ],
   "source": [
    "sp.factor(expr)"
   ]
  },
  {
   "cell_type": "code",
   "execution_count": 61,
   "id": "blank-arizona",
   "metadata": {},
   "outputs": [
    {
     "data": {
      "text/latex": [
       "$\\displaystyle x^{2} + 2 x + 1$"
      ],
      "text/plain": [
       "x**2 + 2*x + 1"
      ]
     },
     "execution_count": 61,
     "metadata": {},
     "output_type": "execute_result"
    }
   ],
   "source": [
    "expresion = x ** 2 + 2 * x + 1\n",
    "expresion"
   ]
  },
  {
   "cell_type": "code",
   "execution_count": 63,
   "id": "relevant-malaysia",
   "metadata": {},
   "outputs": [
    {
     "data": {
      "text/latex": [
       "$\\displaystyle \\left(x + 1\\right)^{2}$"
      ],
      "text/plain": [
       "(x + 1)**2"
      ]
     },
     "execution_count": 63,
     "metadata": {},
     "output_type": "execute_result"
    }
   ],
   "source": [
    "sp.factor(expresion)"
   ]
  },
  {
   "cell_type": "code",
   "execution_count": 65,
   "id": "usual-destiny",
   "metadata": {},
   "outputs": [],
   "source": [
    "expresion = (x ** 3 + x ** 2 - x - 1)/(x ** 2 + 2 * x + 1)"
   ]
  },
  {
   "cell_type": "code",
   "execution_count": 67,
   "id": "conscious-sharp",
   "metadata": {},
   "outputs": [
    {
     "data": {
      "text/latex": [
       "$\\displaystyle \\frac{x^{3} + x^{2} - x - 1}{x^{2} + 2 x + 1}$"
      ],
      "text/plain": [
       "(x**3 + x**2 - x - 1)/(x**2 + 2*x + 1)"
      ]
     },
     "execution_count": 67,
     "metadata": {},
     "output_type": "execute_result"
    }
   ],
   "source": [
    "expresion"
   ]
  },
  {
   "cell_type": "code",
   "execution_count": 69,
   "id": "casual-philippines",
   "metadata": {},
   "outputs": [
    {
     "data": {
      "text/latex": [
       "$\\displaystyle \\left(x - 1\\right) \\left(x + 1\\right)^{2}$"
      ],
      "text/plain": [
       "(x - 1)*(x + 1)**2"
      ]
     },
     "execution_count": 69,
     "metadata": {},
     "output_type": "execute_result"
    }
   ],
   "source": [
    "sp.factor((x ** 3 + x ** 2 - x - 1))"
   ]
  },
  {
   "cell_type": "code",
   "execution_count": 70,
   "id": "boring-adoption",
   "metadata": {},
   "outputs": [
    {
     "data": {
      "text/latex": [
       "$\\displaystyle \\left(x + 1\\right)^{2}$"
      ],
      "text/plain": [
       "(x + 1)**2"
      ]
     },
     "execution_count": 70,
     "metadata": {},
     "output_type": "execute_result"
    }
   ],
   "source": [
    "sp.factor((x ** 2 + 2 * x + 1))"
   ]
  },
  {
   "cell_type": "code",
   "execution_count": 72,
   "id": "fundamental-anatomy",
   "metadata": {},
   "outputs": [
    {
     "data": {
      "text/latex": [
       "$\\displaystyle x - 1$"
      ],
      "text/plain": [
       "x - 1"
      ]
     },
     "execution_count": 72,
     "metadata": {},
     "output_type": "execute_result"
    }
   ],
   "source": [
    "sp.factor(expresion)"
   ]
  },
  {
   "cell_type": "code",
   "execution_count": 128,
   "id": "pediatric-sender",
   "metadata": {},
   "outputs": [
    {
     "data": {
      "text/latex": [
       "$\\displaystyle \\frac{x^{3} + x^{2} - 1}{x^{2} + 2 x + 1}$"
      ],
      "text/plain": [
       "(x**3 + x**2 - 1)/(x**2 + 2*x + 1)"
      ]
     },
     "execution_count": 128,
     "metadata": {},
     "output_type": "execute_result"
    }
   ],
   "source": [
    "# simplificar\n",
    "expresion = (x ** 3 + x ** 2 - 1)/(x ** 2 + 2 * x + 1)\n",
    "sp.simplify(expresion)"
   ]
  },
  {
   "cell_type": "code",
   "execution_count": 77,
   "id": "russian-program",
   "metadata": {},
   "outputs": [
    {
     "data": {
      "text/latex": [
       "$\\displaystyle x^{3} + \\frac{11 x^{2}}{5} + 2 x$"
      ],
      "text/plain": [
       "x**3 + 11*x**2/5 + 2*x"
      ]
     },
     "execution_count": 77,
     "metadata": {},
     "output_type": "execute_result"
    }
   ],
   "source": [
    "# si quiero simplificar por mi cuenta, uso simplify\n",
    "expresion = x ** 3 + x ** 2 - 1 + 6 * x ** 2 / 5 + 2 * x + 1\n",
    "expresion"
   ]
  },
  {
   "cell_type": "code",
   "execution_count": 79,
   "id": "leading-accent",
   "metadata": {},
   "outputs": [],
   "source": [
    "# expandir expresiones\n",
    "exp = sp.factor((x**2 + 2*x + 1))"
   ]
  },
  {
   "cell_type": "code",
   "execution_count": 81,
   "id": "insured-wholesale",
   "metadata": {},
   "outputs": [
    {
     "data": {
      "text/latex": [
       "$\\displaystyle \\left(x + 1\\right)^{2}$"
      ],
      "text/plain": [
       "(x + 1)**2"
      ]
     },
     "execution_count": 81,
     "metadata": {},
     "output_type": "execute_result"
    }
   ],
   "source": [
    "exp"
   ]
  },
  {
   "cell_type": "code",
   "execution_count": 83,
   "id": "satisfactory-drove",
   "metadata": {},
   "outputs": [
    {
     "data": {
      "text/latex": [
       "$\\displaystyle x^{2} + 2 x + 1$"
      ],
      "text/plain": [
       "x**2 + 2*x + 1"
      ]
     },
     "execution_count": 83,
     "metadata": {},
     "output_type": "execute_result"
    }
   ],
   "source": [
    "# utilizo la funcion expand\n",
    "sp.expand(exp)"
   ]
  },
  {
   "cell_type": "markdown",
   "id": "finite-harbor",
   "metadata": {},
   "source": [
    "# Ecuaciones\n",
    "> Utilizamos las funciones `Eq` y `solve`"
   ]
  },
  {
   "cell_type": "code",
   "execution_count": 84,
   "id": "decent-chemical",
   "metadata": {},
   "outputs": [
    {
     "data": {
      "text/latex": [
       "$\\displaystyle \\frac{b h}{2}$"
      ],
      "text/plain": [
       "b*h/2"
      ]
     },
     "execution_count": 84,
     "metadata": {},
     "output_type": "execute_result"
    }
   ],
   "source": [
    "area"
   ]
  },
  {
   "cell_type": "code",
   "execution_count": 85,
   "id": "solid-radio",
   "metadata": {},
   "outputs": [],
   "source": [
    "area_numero_total = 20"
   ]
  },
  {
   "cell_type": "code",
   "execution_count": 101,
   "id": "violent-representation",
   "metadata": {},
   "outputs": [
    {
     "name": "stdout",
     "output_type": "stream",
     "text": [
      "20\n",
      "2.0\n"
     ]
    }
   ],
   "source": [
    "# solucion python normal\n",
    "b = float(input())\n",
    "h = 2 * area_numero_total / b\n",
    "print(h)"
   ]
  },
  {
   "cell_type": "code",
   "execution_count": 91,
   "id": "supposed-fundamental",
   "metadata": {},
   "outputs": [
    {
     "data": {
      "text/latex": [
       "$\\displaystyle \\frac{b h}{2} = 20$"
      ],
      "text/plain": [
       "Eq(b*h/2, 20)"
      ]
     },
     "execution_count": 91,
     "metadata": {},
     "output_type": "execute_result"
    }
   ],
   "source": [
    "# declarar una ecuacion utilizamos Eq\n",
    "# b * h / 2 = area_total\n",
    "equation = sp.Eq(area, 20)\n",
    "equation"
   ]
  },
  {
   "cell_type": "code",
   "execution_count": 97,
   "id": "southern-february",
   "metadata": {},
   "outputs": [
    {
     "name": "stdout",
     "output_type": "stream",
     "text": [
      "10\n"
     ]
    },
    {
     "data": {
      "text/latex": [
       "$\\displaystyle 5.0 h$"
      ],
      "text/plain": [
       "5.0*h"
      ]
     },
     "execution_count": 97,
     "metadata": {},
     "output_type": "execute_result"
    }
   ],
   "source": [
    "base = float(input())\n",
    "area_sustituida = area.subs(b, base)\n",
    "area_sustituida"
   ]
  },
  {
   "cell_type": "code",
   "execution_count": 107,
   "id": "cross-faculty",
   "metadata": {},
   "outputs": [
    {
     "data": {
      "text/latex": [
       "$\\displaystyle 5.0 h = 20$"
      ],
      "text/plain": [
       "Eq(5.0*h, 20)"
      ]
     },
     "execution_count": 107,
     "metadata": {},
     "output_type": "execute_result"
    }
   ],
   "source": [
    "equation = sp.Eq(area_sustituida, 20)\n",
    "equation"
   ]
  },
  {
   "cell_type": "code",
   "execution_count": 102,
   "id": "incomplete-creature",
   "metadata": {},
   "outputs": [
    {
     "data": {
      "text/plain": [
       "[4.00000000000000]"
      ]
     },
     "execution_count": 102,
     "metadata": {},
     "output_type": "execute_result"
    }
   ],
   "source": [
    "# solucionar utilizamos solve\n",
    "sp.solve(equation)"
   ]
  },
  {
   "cell_type": "code",
   "execution_count": 104,
   "id": "central-significance",
   "metadata": {},
   "outputs": [
    {
     "data": {
      "text/latex": [
       "$\\displaystyle x^{2} + 5 x = 20$"
      ],
      "text/plain": [
       "Eq(x**2 + 5*x, 20)"
      ]
     },
     "execution_count": 104,
     "metadata": {},
     "output_type": "execute_result"
    }
   ],
   "source": [
    "equation = sp.Eq(x ** 2 + 5 * x, 20)\n",
    "equation"
   ]
  },
  {
   "cell_type": "code",
   "execution_count": 108,
   "id": "assumed-nancy",
   "metadata": {},
   "outputs": [
    {
     "data": {
      "text/plain": [
       "[4.00000000000000]"
      ]
     },
     "execution_count": 108,
     "metadata": {},
     "output_type": "execute_result"
    }
   ],
   "source": [
    "sp.solve(equation)"
   ]
  },
  {
   "cell_type": "markdown",
   "id": "spectacular-merit",
   "metadata": {},
   "source": [
    "# Resolver matrices\n",
    "> Usando la funcion `Matrix` y `LUsolve`"
   ]
  },
  {
   "cell_type": "code",
   "execution_count": 110,
   "id": "comfortable-words",
   "metadata": {},
   "outputs": [
    {
     "data": {
      "text/plain": [
       "array([ 7., -2.])"
      ]
     },
     "execution_count": 110,
     "metadata": {},
     "output_type": "execute_result"
    }
   ],
   "source": [
    "import numpy as np\n",
    "# C++\n",
    "A = np.array([\n",
    "    [1, 2],\n",
    "    [2, 6]\n",
    "])\n",
    "\n",
    "b = np.array([3, 2])\n",
    "np.linalg.solve(A, b)"
   ]
  },
  {
   "cell_type": "code",
   "execution_count": 112,
   "id": "authentic-mobility",
   "metadata": {},
   "outputs": [
    {
     "data": {
      "text/plain": [
       "array([[1, 2],\n",
       "       [2, 6]])"
      ]
     },
     "execution_count": 112,
     "metadata": {},
     "output_type": "execute_result"
    }
   ],
   "source": [
    "A"
   ]
  },
  {
   "cell_type": "code",
   "execution_count": 114,
   "id": "indirect-senator",
   "metadata": {},
   "outputs": [
    {
     "data": {
      "text/latex": [
       "$\\displaystyle \\left[\\begin{matrix}1 & 2\\\\2 & 6\\end{matrix}\\right]$"
      ],
      "text/plain": [
       "Matrix([\n",
       "[1, 2],\n",
       "[2, 6]])"
      ]
     },
     "execution_count": 114,
     "metadata": {},
     "output_type": "execute_result"
    }
   ],
   "source": [
    "matriz_A = sp.Matrix([\n",
    "    [1, 2],\n",
    "    [2, 6]\n",
    "])\n",
    "\n",
    "matriz_A"
   ]
  },
  {
   "cell_type": "code",
   "execution_count": 116,
   "id": "accompanied-relationship",
   "metadata": {},
   "outputs": [
    {
     "data": {
      "text/latex": [
       "$\\displaystyle \\left[\\begin{matrix}3\\\\2\\end{matrix}\\right]$"
      ],
      "text/plain": [
       "Matrix([\n",
       "[3],\n",
       "[2]])"
      ]
     },
     "execution_count": 116,
     "metadata": {},
     "output_type": "execute_result"
    }
   ],
   "source": [
    "b = sp.Matrix([3, 2])\n",
    "b"
   ]
  },
  {
   "cell_type": "code",
   "execution_count": 119,
   "id": "quiet-synthetic",
   "metadata": {},
   "outputs": [
    {
     "data": {
      "text/latex": [
       "$\\displaystyle \\left[\\begin{matrix}7\\\\-2\\end{matrix}\\right]$"
      ],
      "text/plain": [
       "Matrix([\n",
       "[ 7],\n",
       "[-2]])"
      ]
     },
     "execution_count": 119,
     "metadata": {},
     "output_type": "execute_result"
    }
   ],
   "source": [
    "# LUsolve\n",
    "resultado = matriz_A.LUsolve(b)\n",
    "resultado"
   ]
  },
  {
   "cell_type": "code",
   "execution_count": 121,
   "id": "mechanical-flood",
   "metadata": {},
   "outputs": [
    {
     "data": {
      "text/latex": [
       "$\\displaystyle x^{2}$"
      ],
      "text/plain": [
       "x**2"
      ]
     },
     "execution_count": 121,
     "metadata": {},
     "output_type": "execute_result"
    }
   ],
   "source": [
    "# funcion Pow\n",
    "sp.Pow(x, 2)"
   ]
  },
  {
   "cell_type": "code",
   "execution_count": 123,
   "id": "voluntary-decade",
   "metadata": {},
   "outputs": [
    {
     "data": {
      "text/latex": [
       "$\\displaystyle \\left(x + y\\right)^{2^{x}}$"
      ],
      "text/plain": [
       "(x + y)**(2**x)"
      ]
     },
     "execution_count": 123,
     "metadata": {},
     "output_type": "execute_result"
    }
   ],
   "source": [
    "# funcion Pow\n",
    "sp.Pow(x + y, 2 ** x)"
   ]
  },
  {
   "cell_type": "code",
   "execution_count": 125,
   "id": "narrow-project",
   "metadata": {},
   "outputs": [
    {
     "data": {
      "text/latex": [
       "$\\displaystyle x + y$"
      ],
      "text/plain": [
       "x + y"
      ]
     },
     "execution_count": 125,
     "metadata": {},
     "output_type": "execute_result"
    }
   ],
   "source": [
    "sp.Add(x, y)"
   ]
  },
  {
   "cell_type": "code",
   "execution_count": 127,
   "id": "rubber-manchester",
   "metadata": {},
   "outputs": [
    {
     "data": {
      "text/latex": [
       "$\\displaystyle x + y$"
      ],
      "text/plain": [
       "x + y"
      ]
     },
     "execution_count": 127,
     "metadata": {},
     "output_type": "execute_result"
    }
   ],
   "source": [
    "x + y"
   ]
  },
  {
   "cell_type": "markdown",
   "id": "future-printing",
   "metadata": {},
   "source": [
    "# DERIVADAS\n",
    "> Utilizamos la función `diff`"
   ]
  },
  {
   "cell_type": "code",
   "execution_count": 130,
   "id": "periodic-regular",
   "metadata": {},
   "outputs": [
    {
     "data": {
      "text/latex": [
       "$\\displaystyle \\frac{x^{3} + x^{2} - 1}{x^{2} + 2 x + 1}$"
      ],
      "text/plain": [
       "(x**3 + x**2 - 1)/(x**2 + 2*x + 1)"
      ]
     },
     "execution_count": 130,
     "metadata": {},
     "output_type": "execute_result"
    }
   ],
   "source": [
    "expresion"
   ]
  },
  {
   "cell_type": "code",
   "execution_count": 136,
   "id": "available-chicken",
   "metadata": {},
   "outputs": [
    {
     "data": {
      "text/latex": [
       "$\\displaystyle \\frac{6 \\left(\\frac{x \\left(3 x + 2\\right) \\left(\\frac{4 \\left(x + 1\\right)^{2}}{x^{2} + 2 x + 1} - 1\\right)}{x^{2} + 2 x + 1} - \\frac{2 \\left(x + 1\\right) \\left(3 x + 1\\right)}{x^{2} + 2 x + 1} - \\frac{4 \\left(x + 1\\right) \\left(\\frac{2 \\left(x + 1\\right)^{2}}{x^{2} + 2 x + 1} - 1\\right) \\left(x^{3} + x^{2} - 1\\right)}{\\left(x^{2} + 2 x + 1\\right)^{2}} + 1\\right)}{x^{2} + 2 x + 1}$"
      ],
      "text/plain": [
       "6*(x*(3*x + 2)*(4*(x + 1)**2/(x**2 + 2*x + 1) - 1)/(x**2 + 2*x + 1) - 2*(x + 1)*(3*x + 1)/(x**2 + 2*x + 1) - 4*(x + 1)*(2*(x + 1)**2/(x**2 + 2*x + 1) - 1)*(x**3 + x**2 - 1)/(x**2 + 2*x + 1)**2 + 1)/(x**2 + 2*x + 1)"
      ]
     },
     "execution_count": 136,
     "metadata": {},
     "output_type": "execute_result"
    }
   ],
   "source": [
    "sp.diff(expresion, x, 3)"
   ]
  },
  {
   "cell_type": "code",
   "execution_count": 147,
   "id": "eight-ordinance",
   "metadata": {},
   "outputs": [
    {
     "data": {
      "text/latex": [
       "$\\displaystyle - e^{y} + \\frac{x^{3} + x^{2} - 1}{x^{2} + 2 x + 1} + \\frac{y^{2}}{x^{5}}$"
      ],
      "text/plain": [
       "-exp(y) + (x**3 + x**2 - 1)/(x**2 + 2*x + 1) + y**2/x**5"
      ]
     },
     "execution_count": 147,
     "metadata": {},
     "output_type": "execute_result"
    }
   ],
   "source": [
    "funcion_2_d = expresion + (y ** 2 * (x ** -5)) - sp.exp(y)\n",
    "funcion_2_d"
   ]
  },
  {
   "cell_type": "code",
   "execution_count": 152,
   "id": "changed-expense",
   "metadata": {},
   "outputs": [
    {
     "data": {
      "text/latex": [
       "$\\displaystyle \\frac{\\left(- 2 x - 2\\right) \\left(x^{3} + x^{2} - 1\\right)}{\\left(x^{2} + 2 x + 1\\right)^{2}} + \\frac{3 x^{2} + 2 x}{x^{2} + 2 x + 1} - \\frac{5 y^{2}}{x^{6}}$"
      ],
      "text/plain": [
       "(-2*x - 2)*(x**3 + x**2 - 1)/(x**2 + 2*x + 1)**2 + (3*x**2 + 2*x)/(x**2 + 2*x + 1) - 5*y**2/x**6"
      ]
     },
     "execution_count": 152,
     "metadata": {},
     "output_type": "execute_result"
    }
   ],
   "source": [
    "sp.diff(funcion_2_d, x)"
   ]
  },
  {
   "cell_type": "code",
   "execution_count": 155,
   "id": "potential-canada",
   "metadata": {},
   "outputs": [
    {
     "data": {
      "text/latex": [
       "$\\displaystyle \\frac{60}{x^{7}}$"
      ],
      "text/plain": [
       "60/x**7"
      ]
     },
     "execution_count": 155,
     "metadata": {},
     "output_type": "execute_result"
    }
   ],
   "source": [
    "sp.diff(funcion_2_d, x, 2, y, 2)"
   ]
  },
  {
   "cell_type": "code",
   "execution_count": 165,
   "id": "educated-luxury",
   "metadata": {},
   "outputs": [
    {
     "data": {
      "text/latex": [
       "$\\displaystyle - \\frac{10 y}{x^{6}}$"
      ],
      "text/plain": [
       "-10*y/x**6"
      ]
     },
     "execution_count": 165,
     "metadata": {},
     "output_type": "execute_result"
    }
   ],
   "source": [
    "sp.diff(funcion_2_d, x, y)"
   ]
  },
  {
   "cell_type": "code",
   "execution_count": 159,
   "id": "dynamic-consultation",
   "metadata": {},
   "outputs": [],
   "source": [
    "funcion = sp.cos(x * y)"
   ]
  },
  {
   "cell_type": "code",
   "execution_count": 189,
   "id": "valid-effect",
   "metadata": {},
   "outputs": [
    {
     "data": {
      "text/latex": [
       "$\\displaystyle \\cos{\\left(x y \\right)}$"
      ],
      "text/plain": [
       "cos(x*y)"
      ]
     },
     "execution_count": 189,
     "metadata": {},
     "output_type": "execute_result"
    }
   ],
   "source": [
    "funcion"
   ]
  },
  {
   "cell_type": "code",
   "execution_count": 166,
   "id": "fluid-leadership",
   "metadata": {},
   "outputs": [
    {
     "data": {
      "text/latex": [
       "$\\displaystyle - y \\sin{\\left(5 y \\right)}$"
      ],
      "text/plain": [
       "-y*sin(5*y)"
      ]
     },
     "execution_count": 166,
     "metadata": {},
     "output_type": "execute_result"
    }
   ],
   "source": [
    "sp.diff(funcion, x).subs(x, 5) - sp.diff(funcion, x).subs(x, 0)"
   ]
  },
  {
   "cell_type": "markdown",
   "id": "wooden-killer",
   "metadata": {},
   "source": [
    "# Integrales\n",
    "> Función `integrate` o `Integral`"
   ]
  },
  {
   "cell_type": "code",
   "execution_count": 236,
   "id": "identified-cornwall",
   "metadata": {},
   "outputs": [
    {
     "data": {
      "text/latex": [
       "$\\displaystyle \\frac{x^{3} + x^{2} - 1}{x^{2} + 2 x + 1}$"
      ],
      "text/plain": [
       "(x**3 + x**2 - 1)/(x**2 + 2*x + 1)"
      ]
     },
     "execution_count": 236,
     "metadata": {},
     "output_type": "execute_result"
    }
   ],
   "source": [
    "expresion"
   ]
  },
  {
   "cell_type": "code",
   "execution_count": 172,
   "id": "raising-compiler",
   "metadata": {},
   "outputs": [
    {
     "data": {
      "text/latex": [
       "$\\displaystyle \\frac{x^{2}}{2} - x + \\log{\\left(x + 1 \\right)} + \\frac{1}{x + 1}$"
      ],
      "text/plain": [
       "x**2/2 - x + log(x + 1) + 1/(x + 1)"
      ]
     },
     "execution_count": 172,
     "metadata": {},
     "output_type": "execute_result"
    }
   ],
   "source": [
    "sp.integrate(expresion, x)"
   ]
  },
  {
   "cell_type": "code",
   "execution_count": 183,
   "id": "dirty-jewel",
   "metadata": {},
   "outputs": [
    {
     "data": {
      "text/latex": [
       "$\\displaystyle \\int\\limits_{1}^{5} \\frac{x^{3} + x^{2} - 1}{x^{2} + 2 x + 1}\\, dx$"
      ],
      "text/plain": [
       "Integral((x**3 + x**2 - 1)/(x**2 + 2*x + 1), (x, 1, 5))"
      ]
     },
     "execution_count": 183,
     "metadata": {},
     "output_type": "execute_result"
    }
   ],
   "source": [
    "# de segundo parametro pasan parentesis, la variable y sus limites\n",
    "integral = sp.Integral(expresion, (x, 1, 5))\n",
    "integral"
   ]
  },
  {
   "cell_type": "code",
   "execution_count": 186,
   "id": "preceding-factor",
   "metadata": {},
   "outputs": [
    {
     "data": {
      "text/latex": [
       "$\\displaystyle - \\log{\\left(2 \\right)} + \\log{\\left(6 \\right)} + \\frac{23}{3}$"
      ],
      "text/plain": [
       "-log(2) + log(6) + 23/3"
      ]
     },
     "execution_count": 186,
     "metadata": {},
     "output_type": "execute_result"
    }
   ],
   "source": [
    "# Correr la integral\n",
    "integral.doit()"
   ]
  },
  {
   "cell_type": "code",
   "execution_count": 191,
   "id": "accredited-threshold",
   "metadata": {},
   "outputs": [
    {
     "data": {
      "text/latex": [
       "$\\displaystyle - \\log{\\left(2 \\right)} + \\log{\\left(6 \\right)} + \\frac{23}{3}$"
      ],
      "text/plain": [
       "-log(2) + log(6) + 23/3"
      ]
     },
     "execution_count": 191,
     "metadata": {},
     "output_type": "execute_result"
    }
   ],
   "source": [
    "sp.integrate(expresion, (x, 1, 5))"
   ]
  },
  {
   "cell_type": "code",
   "execution_count": 193,
   "id": "accurate-mileage",
   "metadata": {},
   "outputs": [
    {
     "data": {
      "text/latex": [
       "$\\displaystyle \\sin{\\left(5 \\right)} - \\sin{\\left(1 \\right)}$"
      ],
      "text/plain": [
       "sin(5) - sin(1)"
      ]
     },
     "execution_count": 193,
     "metadata": {},
     "output_type": "execute_result"
    }
   ],
   "source": [
    "sp.integrate(sp.cos(x), (x, 1, 5))"
   ]
  },
  {
   "cell_type": "code",
   "execution_count": 195,
   "id": "superb-newspaper",
   "metadata": {},
   "outputs": [
    {
     "data": {
      "text/latex": [
       "$\\displaystyle - \\frac{e^{2}}{2} + \\sin{\\left(5 \\right)} - \\sin{\\left(1 \\right)} - \\log{\\left(2 \\right)} + \\log{\\left(6 \\right)} + \\frac{23}{3} + \\frac{e^{10}}{2}$"
      ],
      "text/plain": [
       "-exp(2)/2 + sin(5) - sin(1) - log(2) + log(6) + 23/3 + exp(10)/2"
      ]
     },
     "execution_count": 195,
     "metadata": {},
     "output_type": "execute_result"
    }
   ],
   "source": [
    "sp.integrate(expresion + sp.cos(x) + sp.Pow(sp.exp(x), 2), (x, 1, 5))"
   ]
  },
  {
   "cell_type": "code",
   "execution_count": 198,
   "id": "inner-mandate",
   "metadata": {},
   "outputs": [
    {
     "data": {
      "text/latex": [
       "$\\displaystyle \\int x^{x}\\, dx$"
      ],
      "text/plain": [
       "Integral(x**x, x)"
      ]
     },
     "execution_count": 198,
     "metadata": {},
     "output_type": "execute_result"
    }
   ],
   "source": [
    "# cuando tengo integrales que no se pueden definir obtengo la forma simbolica\n",
    "sp.integrate(sp.Pow(x, x), x) "
   ]
  },
  {
   "cell_type": "code",
   "execution_count": 199,
   "id": "infrared-spell",
   "metadata": {},
   "outputs": [
    {
     "data": {
      "text/latex": [
       "$\\displaystyle \\cos{\\left(x y \\right)}$"
      ],
      "text/plain": [
       "cos(x*y)"
      ]
     },
     "execution_count": 199,
     "metadata": {},
     "output_type": "execute_result"
    }
   ],
   "source": [
    "funcion"
   ]
  },
  {
   "cell_type": "code",
   "execution_count": 202,
   "id": "funny-schedule",
   "metadata": {},
   "outputs": [
    {
     "data": {
      "text/latex": [
       "$\\displaystyle \\begin{cases} \\frac{\\sin{\\left(x y \\right)}}{x} & \\text{for}\\: x \\neq 0 \\\\y & \\text{otherwise} \\end{cases}$"
      ],
      "text/plain": [
       "Piecewise((sin(x*y)/x, Ne(x, 0)), (y, True))"
      ]
     },
     "execution_count": 202,
     "metadata": {},
     "output_type": "execute_result"
    }
   ],
   "source": [
    "sp.integrate(funcion, y)"
   ]
  },
  {
   "cell_type": "code",
   "execution_count": 208,
   "id": "becoming-capability",
   "metadata": {},
   "outputs": [
    {
     "data": {
      "text/latex": [
       "$\\displaystyle \\frac{x y^{2}}{2}$"
      ],
      "text/plain": [
       "x*y**2/2"
      ]
     },
     "execution_count": 208,
     "metadata": {},
     "output_type": "execute_result"
    }
   ],
   "source": [
    "sp.integrate(x * y, y)"
   ]
  },
  {
   "cell_type": "code",
   "execution_count": 209,
   "id": "prime-burst",
   "metadata": {},
   "outputs": [
    {
     "data": {
      "text/latex": [
       "$\\displaystyle \\frac{x^{2} y^{2}}{4}$"
      ],
      "text/plain": [
       "x**2*y**2/4"
      ]
     },
     "execution_count": 209,
     "metadata": {},
     "output_type": "execute_result"
    }
   ],
   "source": [
    "sp.integrate(x * y, y, x)"
   ]
  },
  {
   "cell_type": "code",
   "execution_count": 211,
   "id": "unlikely-italian",
   "metadata": {},
   "outputs": [
    {
     "data": {
      "text/latex": [
       "$\\displaystyle \\frac{25 x}{2}$"
      ],
      "text/plain": [
       "25*x/2"
      ]
     },
     "execution_count": 211,
     "metadata": {},
     "output_type": "execute_result"
    }
   ],
   "source": [
    "sp.integrate(x * y, (y, 0, 5))"
   ]
  },
  {
   "cell_type": "code",
   "execution_count": 213,
   "id": "happy-baptist",
   "metadata": {},
   "outputs": [
    {
     "data": {
      "text/latex": [
       "$\\displaystyle - \\frac{25}{4}$"
      ],
      "text/plain": [
       "-25/4"
      ]
     },
     "execution_count": 213,
     "metadata": {},
     "output_type": "execute_result"
    }
   ],
   "source": [
    "sp.integrate(x * y, (y, 0, 5), (x, -1, 0))"
   ]
  },
  {
   "cell_type": "code",
   "execution_count": 216,
   "id": "demanding-corrections",
   "metadata": {},
   "outputs": [
    {
     "data": {
      "text/latex": [
       "$\\displaystyle \\int\\limits_{-1}^{0}\\int\\limits_{0}^{5} x y\\, dy\\, dx$"
      ],
      "text/plain": [
       "Integral(x*y, (y, 0, 5), (x, -1, 0))"
      ]
     },
     "execution_count": 216,
     "metadata": {},
     "output_type": "execute_result"
    }
   ],
   "source": [
    "integral = sp.Integral(x * y, (y, 0, 5), (x, -1, 0))\n",
    "integral"
   ]
  },
  {
   "cell_type": "code",
   "execution_count": 218,
   "id": "separate-touch",
   "metadata": {},
   "outputs": [
    {
     "data": {
      "text/latex": [
       "$\\displaystyle - \\frac{25}{4}$"
      ],
      "text/plain": [
       "-25/4"
      ]
     },
     "execution_count": 218,
     "metadata": {},
     "output_type": "execute_result"
    }
   ],
   "source": [
    "integral.doit()"
   ]
  },
  {
   "cell_type": "code",
   "execution_count": 226,
   "id": "disciplinary-green",
   "metadata": {},
   "outputs": [
    {
     "data": {
      "text/latex": [
       "$\\displaystyle \\int\\limits_{-1}^{-\\infty}\\int\\limits_{0}^{\\infty} x y\\, dy\\, dx$"
      ],
      "text/plain": [
       "Integral(x*y, (y, 0, oo), (x, -1, -oo))"
      ]
     },
     "execution_count": 226,
     "metadata": {},
     "output_type": "execute_result"
    }
   ],
   "source": [
    "integral = sp.Integral(x * y, (y, 0, sp.oo), (x, -1, -sp.oo))\n",
    "integral"
   ]
  },
  {
   "cell_type": "code",
   "execution_count": 228,
   "id": "infectious-relief",
   "metadata": {},
   "outputs": [
    {
     "data": {
      "text/latex": [
       "$\\displaystyle \\int\\limits_{0}^{\\infty} e^{- x}\\, dx$"
      ],
      "text/plain": [
       "Integral(exp(-x), (x, 0, oo))"
      ]
     },
     "execution_count": 228,
     "metadata": {},
     "output_type": "execute_result"
    }
   ],
   "source": [
    "integral = sp.Integral(sp.exp(-x), (x, 0, sp.oo))\n",
    "integral"
   ]
  },
  {
   "cell_type": "code",
   "execution_count": 230,
   "id": "rural-wagner",
   "metadata": {},
   "outputs": [
    {
     "data": {
      "text/latex": [
       "$\\displaystyle 1$"
      ],
      "text/plain": [
       "1"
      ]
     },
     "execution_count": 230,
     "metadata": {},
     "output_type": "execute_result"
    }
   ],
   "source": [
    "integral.doit()"
   ]
  },
  {
   "cell_type": "markdown",
   "id": "drawn-angola",
   "metadata": {},
   "source": [
    "# Plotear expresiones simbolicas\n",
    "> Función `plot`"
   ]
  },
  {
   "cell_type": "code",
   "execution_count": 232,
   "id": "bronze-recommendation",
   "metadata": {},
   "outputs": [
    {
     "data": {
      "image/png": "[encoded data removed]",
      "text/plain": [
       "<Figure size 432x288 with 1 Axes>"
      ]
     },
     "metadata": {
      "needs_background": "light"
     },
     "output_type": "display_data"
    },
    {
     "data": {
      "text/plain": [
       "<sympy.plotting.plot.Plot at 0x2d56551fc40>"
      ]
     },
     "execution_count": 232,
     "metadata": {},
     "output_type": "execute_result"
    }
   ],
   "source": [
    "sp.plot(x ** 2)"
   ]
  },
  {
   "cell_type": "code",
   "execution_count": 235,
   "id": "lyric-privacy",
   "metadata": {},
   "outputs": [
    {
     "data": {
      "image/png": "[encoded data removed]",
      "text/plain": [
       "<Figure size 432x288 with 1 Axes>"
      ]
     },
     "metadata": {
      "needs_background": "light"
     },
     "output_type": "display_data"
    },
    {
     "data": {
      "text/plain": [
       "<sympy.plotting.plot.Plot at 0x2d567281370>"
      ]
     },
     "execution_count": 235,
     "metadata": {},
     "output_type": "execute_result"
    }
   ],
   "source": [
    "sp.plot(x ** 2, - x ** 2 + 10)"
   ]
  },
  {
   "cell_type": "code",
   "execution_count": 247,
   "id": "alleged-count",
   "metadata": {},
   "outputs": [
    {
     "data": {
      "image/png": "[encoded data removed]",
      "text/plain": [
       "<Figure size 432x288 with 1 Axes>"
      ]
     },
     "metadata": {
      "needs_background": "light"
     },
     "output_type": "display_data"
    },
    {
     "data": {
      "text/plain": [
       "<sympy.plotting.plot.Plot at 0x2d568c48cd0>"
      ]
     },
     "execution_count": 247,
     "metadata": {},
     "output_type": "execute_result"
    }
   ],
   "source": [
    "# definir limites de grafica\n",
    "sp.plot((sp.exp(-x), (x, -4.5, 4.5)), (sp.exp(x), (x, -5, 5)))"
   ]
  },
  {
   "cell_type": "code",
   "execution_count": 242,
   "id": "systematic-segment",
   "metadata": {},
   "outputs": [
    {
     "data": {
      "image/png": "[encoded data removed]",
      "text/plain": [
       "<Figure size 432x288 with 1 Axes>"
      ]
     },
     "metadata": {
      "needs_background": "light"
     },
     "output_type": "display_data"
    },
    {
     "data": {
      "text/plain": [
       "<sympy.plotting.plot.Plot at 0x2d5678909a0>"
      ]
     },
     "execution_count": 242,
     "metadata": {},
     "output_type": "execute_result"
    }
   ],
   "source": [
    "from sympy.plotting import plot3d\n",
    "plot3d(x * y)"
   ]
  },
  {
   "cell_type": "code",
   "execution_count": 248,
   "id": "handled-worship",
   "metadata": {},
   "outputs": [
    {
     "data": {
      "image/png": "[encoded data removed]",
      "text/plain": [
       "<Figure size 432x288 with 1 Axes>"
      ]
     },
     "metadata": {
      "needs_background": "light"
     },
     "output_type": "display_data"
    },
    {
     "data": {
      "text/plain": [
       "<sympy.plotting.plot.Plot at 0x2d568c2d9a0>"
      ]
     },
     "execution_count": 248,
     "metadata": {},
     "output_type": "execute_result"
    }
   ],
   "source": [
    "plot3d(x * y + x ** 2 / y)"
   ]
  },
  {
   "cell_type": "code",
   "execution_count": 255,
   "id": "southern-thunder",
   "metadata": {},
   "outputs": [
    {
     "data": {
      "image/png": "[encoded data removed]",
      "text/plain": [
       "<Figure size 432x288 with 1 Axes>"
      ]
     },
     "metadata": {
      "needs_background": "light"
     },
     "output_type": "display_data"
    },
    {
     "data": {
      "text/plain": [
       "<sympy.plotting.plot.Plot at 0x2d568f5f280>"
      ]
     },
     "execution_count": 255,
     "metadata": {},
     "output_type": "execute_result"
    }
   ],
   "source": [
    "# DIAGRAMA DE FUERZA CORTANTE\n",
    "P = 100\n",
    "L = 4\n",
    "sp.plot((P / 2, (x, 0, L / 2)), (-P / 2, (x, L / 2, L)))"
   ]
  },
  {
   "cell_type": "code",
   "execution_count": 256,
   "id": "prostate-double",
   "metadata": {},
   "outputs": [
    {
     "data": {
      "image/png": "[encoded data removed]",
      "text/plain": [
       "<Figure size 432x288 with 1 Axes>"
      ]
     },
     "metadata": {
      "needs_background": "light"
     },
     "output_type": "display_data"
    },
    {
     "data": {
      "text/plain": [
       "<sympy.plotting.plot.Plot at 0x2d5690d5dc0>"
      ]
     },
     "execution_count": 256,
     "metadata": {},
     "output_type": "execute_result"
    }
   ],
   "source": [
    "sp.plot((P / 2 * x, (x, 0, L / 2)), (P / 2 * (L - x), (x, L / 2, L)))"
   ]
  }
 ],
 "metadata": {
  "kernelspec": {
   "display_name": "Python 3",
   "language": "python",
   "name": "python3"
  },
  "language_info": {
   "codemirror_mode": {
    "name": "ipython",
    "version": 3
   },
   "file_extension": ".py",
   "mimetype": "text/x-python",
   "name": "python",
   "nbconvert_exporter": "python",
   "pygments_lexer": "ipython3",
   "version": "3.8.5"
  }
 },
 "nbformat": 4,
 "nbformat_minor": 5
}
