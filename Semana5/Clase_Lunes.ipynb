{
 "cells": [
  {
   "cell_type": "markdown",
   "id": "unlikely-bible",
   "metadata": {},
   "source": [
    "# PROGRAMACIÓN SIMBOLICA\n",
    "Instalar `pip install sympy`"
   ]
  },
  {
   "cell_type": "code",
   "execution_count": 1,
   "id": "corresponding-argument",
   "metadata": {},
   "outputs": [
    {
     "data": {
      "text/plain": [
       "5"
      ]
     },
     "execution_count": 1,
     "metadata": {},
     "output_type": "execute_result"
    }
   ],
   "source": [
    "x = 5\n",
    "x"
   ]
  },
  {
   "cell_type": "code",
   "execution_count": 2,
   "id": "referenced-wisconsin",
   "metadata": {},
   "outputs": [
    {
     "data": {
      "text/plain": [
       "6"
      ]
     },
     "execution_count": 2,
     "metadata": {},
     "output_type": "execute_result"
    }
   ],
   "source": [
    "x = x + 1\n",
    "x"
   ]
  },
  {
   "cell_type": "code",
   "execution_count": 3,
   "id": "general-rings",
   "metadata": {},
   "outputs": [],
   "source": [
    "import sympy as sp\n",
    "import numpy as np"
   ]
  },
  {
   "cell_type": "code",
   "execution_count": 4,
   "id": "positive-binary",
   "metadata": {},
   "outputs": [],
   "source": [
    "# declarar con la funcion symbols\n",
    "x, y, h, b = sp.symbols('x y h b')"
   ]
  },
  {
   "cell_type": "code",
   "execution_count": 5,
   "id": "trained-sugar",
   "metadata": {},
   "outputs": [
    {
     "data": {
      "text/latex": [
       "$\\displaystyle x$"
      ],
      "text/plain": [
       "x"
      ]
     },
     "execution_count": 5,
     "metadata": {},
     "output_type": "execute_result"
    }
   ],
   "source": [
    "x"
   ]
  },
  {
   "cell_type": "code",
   "execution_count": 6,
   "id": "accepting-diagram",
   "metadata": {},
   "outputs": [
    {
     "data": {
      "text/latex": [
       "$\\displaystyle y$"
      ],
      "text/plain": [
       "y"
      ]
     },
     "execution_count": 6,
     "metadata": {},
     "output_type": "execute_result"
    }
   ],
   "source": [
    "y"
   ]
  },
  {
   "cell_type": "code",
   "execution_count": 7,
   "id": "advance-capture",
   "metadata": {},
   "outputs": [
    {
     "data": {
      "text/latex": [
       "$\\displaystyle \\sqrt{5} + \\sqrt{13}$"
      ],
      "text/plain": [
       "sqrt(5) + sqrt(13)"
      ]
     },
     "execution_count": 7,
     "metadata": {},
     "output_type": "execute_result"
    }
   ],
   "source": [
    "# raiz cuadrada\n",
    "sp.sqrt(5) + sp.sqrt(13)"
   ]
  },
  {
   "cell_type": "code",
   "execution_count": 8,
   "id": "stuck-truth",
   "metadata": {},
   "outputs": [
    {
     "data": {
      "text/plain": [
       "2.23606797749979"
      ]
     },
     "execution_count": 8,
     "metadata": {},
     "output_type": "execute_result"
    }
   ],
   "source": [
    "np.sqrt(5)"
   ]
  },
  {
   "cell_type": "code",
   "execution_count": 9,
   "id": "retained-panel",
   "metadata": {},
   "outputs": [
    {
     "data": {
      "text/plain": [
       "2.5"
      ]
     },
     "execution_count": 9,
     "metadata": {},
     "output_type": "execute_result"
    }
   ],
   "source": [
    "5 / 2"
   ]
  },
  {
   "cell_type": "code",
   "execution_count": 10,
   "id": "clinical-unemployment",
   "metadata": {},
   "outputs": [
    {
     "data": {
      "text/latex": [
       "$\\displaystyle 5 b h + x^{2}$"
      ],
      "text/plain": [
       "5*b*h + x**2"
      ]
     },
     "execution_count": 10,
     "metadata": {},
     "output_type": "execute_result"
    }
   ],
   "source": [
    "expr = b * h * 5 + x ** 2 \n",
    "expr"
   ]
  },
  {
   "cell_type": "code",
   "execution_count": 11,
   "id": "otherwise-casino",
   "metadata": {},
   "outputs": [
    {
     "data": {
      "text/latex": [
       "$\\displaystyle \\frac{5 b h}{2} + \\frac{x^{2}}{2}$"
      ],
      "text/plain": [
       "5*b*h/2 + x**2/2"
      ]
     },
     "execution_count": 11,
     "metadata": {},
     "output_type": "execute_result"
    }
   ],
   "source": [
    "area_triangulo =  sp.Rational(1, 2) * expr\n",
    "area_triangulo"
   ]
  },
  {
   "cell_type": "code",
   "execution_count": 12,
   "id": "operational-river",
   "metadata": {},
   "outputs": [
    {
     "data": {
      "text/latex": [
       "$\\displaystyle \\frac{45 h}{2} + \\frac{x^{2}}{2}$"
      ],
      "text/plain": [
       "45*h/2 + x**2/2"
      ]
     },
     "execution_count": 12,
     "metadata": {},
     "output_type": "execute_result"
    }
   ],
   "source": [
    "area_triangulo.subs(b, 9)"
   ]
  },
  {
   "cell_type": "code",
   "execution_count": 13,
   "id": "generic-artwork",
   "metadata": {},
   "outputs": [
    {
     "data": {
      "text/latex": [
       "$\\displaystyle \\frac{x^{2}}{2} + \\frac{135}{2}$"
      ],
      "text/plain": [
       "x**2/2 + 135/2"
      ]
     },
     "execution_count": 13,
     "metadata": {},
     "output_type": "execute_result"
    }
   ],
   "source": [
    "area_triangulo.subs([(b, 9), (h, 3)])"
   ]
  },
  {
   "cell_type": "code",
   "execution_count": 14,
   "id": "cosmetic-telling",
   "metadata": {},
   "outputs": [
    {
     "data": {
      "text/latex": [
       "$\\displaystyle \\frac{5 h \\left(h + \\frac{x^{2}}{3}\\right)}{2} + \\frac{x^{2}}{2}$"
      ],
      "text/plain": [
       "5*h*(h + x**2/3)/2 + x**2/2"
      ]
     },
     "execution_count": 14,
     "metadata": {},
     "output_type": "execute_result"
    }
   ],
   "source": [
    "# reemplazar valores en simbolos mediante la funcion subs\n",
    "area_triangulo.subs(b, h + x ** 2 / 3)"
   ]
  },
  {
   "cell_type": "code",
   "execution_count": 15,
   "id": "threatened-shaft",
   "metadata": {},
   "outputs": [],
   "source": [
    "# simbolos default\n",
    "from sympy.abc import p, q, xi, b, h, x"
   ]
  },
  {
   "cell_type": "code",
   "execution_count": 16,
   "id": "quick-rates",
   "metadata": {},
   "outputs": [
    {
     "data": {
      "text/latex": [
       "$\\displaystyle b$"
      ],
      "text/plain": [
       "b"
      ]
     },
     "execution_count": 16,
     "metadata": {},
     "output_type": "execute_result"
    }
   ],
   "source": [
    "b"
   ]
  },
  {
   "cell_type": "code",
   "execution_count": 17,
   "id": "expressed-ballet",
   "metadata": {},
   "outputs": [
    {
     "data": {
      "text/latex": [
       "$\\displaystyle 18 x^{2} + 81 x$"
      ],
      "text/plain": [
       "18*x**2 + 81*x"
      ]
     },
     "execution_count": 17,
     "metadata": {},
     "output_type": "execute_result"
    }
   ],
   "source": [
    "expresion = 18 * x ** 2 + 81 * x\n",
    "expresion"
   ]
  },
  {
   "cell_type": "code",
   "execution_count": 18,
   "id": "super-dietary",
   "metadata": {},
   "outputs": [
    {
     "data": {
      "text/latex": [
       "$\\displaystyle 9 x \\left(2 x + 9\\right)$"
      ],
      "text/plain": [
       "9*x*(2*x + 9)"
      ]
     },
     "execution_count": 18,
     "metadata": {},
     "output_type": "execute_result"
    }
   ],
   "source": [
    "expresion_2 = sp.factor(expresion)\n",
    "expresion_2"
   ]
  },
  {
   "cell_type": "code",
   "execution_count": 19,
   "id": "failing-tooth",
   "metadata": {},
   "outputs": [],
   "source": [
    "ex_2 = sp.expand(expresion_2)"
   ]
  },
  {
   "cell_type": "code",
   "execution_count": 20,
   "id": "fitted-nursery",
   "metadata": {},
   "outputs": [
    {
     "data": {
      "text/latex": [
       "$\\displaystyle \\frac{\\left(x - 1\\right) \\left(x + 1\\right)^{2}}{x^{2} + 2 x + 1}$"
      ],
      "text/plain": [
       "(x - 1)*(x + 1)**2/(x**2 + 2*x + 1)"
      ]
     },
     "execution_count": 20,
     "metadata": {},
     "output_type": "execute_result"
    }
   ],
   "source": [
    "ex = sp.factor((x**3 + x**2 - x - 1))/(x**2 + 2*x + 1)\n",
    "ex"
   ]
  },
  {
   "cell_type": "code",
   "execution_count": 21,
   "id": "subtle-concentration",
   "metadata": {},
   "outputs": [
    {
     "data": {
      "text/latex": [
       "$\\displaystyle x - 1$"
      ],
      "text/plain": [
       "x - 1"
      ]
     },
     "execution_count": 21,
     "metadata": {},
     "output_type": "execute_result"
    }
   ],
   "source": [
    "# si quiero simplificar de la forma mas optima uso simplify\n",
    "sp.simplify(ex)"
   ]
  },
  {
   "cell_type": "markdown",
   "id": "nuclear-albuquerque",
   "metadata": {},
   "source": [
    "# Resolver ecuaciones\n",
    "1. Necesito usar la funcion `Eq`\n",
    "2. Usar la funcion `solve`"
   ]
  },
  {
   "cell_type": "code",
   "execution_count": 22,
   "id": "demonstrated-spread",
   "metadata": {},
   "outputs": [
    {
     "data": {
      "text/latex": [
       "$\\displaystyle 18 x^{2} + 81 x$"
      ],
      "text/plain": [
       "18*x**2 + 81*x"
      ]
     },
     "execution_count": 22,
     "metadata": {},
     "output_type": "execute_result"
    }
   ],
   "source": [
    "ex_2\n",
    "# 18𝑥2+81𝑥 =  0"
   ]
  },
  {
   "cell_type": "code",
   "execution_count": 23,
   "id": "determined-meditation",
   "metadata": {},
   "outputs": [
    {
     "data": {
      "text/latex": [
       "$\\displaystyle 18 x^{2} + 81 x = 0$"
      ],
      "text/plain": [
       "Eq(18*x**2 + 81*x, 0)"
      ]
     },
     "execution_count": 23,
     "metadata": {},
     "output_type": "execute_result"
    }
   ],
   "source": [
    "ecuacion = sp.Eq(ex_2, 0)\n",
    "ecuacion"
   ]
  },
  {
   "cell_type": "code",
   "execution_count": 24,
   "id": "developing-agency",
   "metadata": {},
   "outputs": [
    {
     "data": {
      "text/plain": [
       "[-9/2, 0]"
      ]
     },
     "execution_count": 24,
     "metadata": {},
     "output_type": "execute_result"
    }
   ],
   "source": [
    "sp.solve(ecuacion)"
   ]
  },
  {
   "cell_type": "markdown",
   "id": "nuclear-boutique",
   "metadata": {},
   "source": [
    "# Matrices\n",
    "Utilizar la funcion `Matrix`"
   ]
  },
  {
   "cell_type": "code",
   "execution_count": 25,
   "id": "numerical-shadow",
   "metadata": {},
   "outputs": [
    {
     "data": {
      "text/latex": [
       "$\\displaystyle \\left[\\begin{matrix}1 & 2\\\\2 & -3\\end{matrix}\\right]$"
      ],
      "text/plain": [
       "Matrix([\n",
       "[1,  2],\n",
       "[2, -3]])"
      ]
     },
     "execution_count": 25,
     "metadata": {},
     "output_type": "execute_result"
    }
   ],
   "source": [
    "A_simbolica = sp.Matrix([\n",
    "    [1, 2],\n",
    "    [2, -3]\n",
    "])\n",
    "A_simbolica"
   ]
  },
  {
   "cell_type": "code",
   "execution_count": 26,
   "id": "promotional-tracy",
   "metadata": {},
   "outputs": [
    {
     "data": {
      "text/latex": [
       "$\\displaystyle \\left[\\begin{matrix}1\\\\2\\end{matrix}\\right]$"
      ],
      "text/plain": [
       "Matrix([\n",
       "[1],\n",
       "[2]])"
      ]
     },
     "execution_count": 26,
     "metadata": {},
     "output_type": "execute_result"
    }
   ],
   "source": [
    "b = sp.Matrix([1, 2])\n",
    "b"
   ]
  },
  {
   "cell_type": "code",
   "execution_count": 27,
   "id": "dietary-colorado",
   "metadata": {},
   "outputs": [
    {
     "data": {
      "text/latex": [
       "$\\displaystyle \\left[\\begin{matrix}1\\\\0\\end{matrix}\\right]$"
      ],
      "text/plain": [
       "Matrix([\n",
       "[1],\n",
       "[0]])"
      ]
     },
     "execution_count": 27,
     "metadata": {},
     "output_type": "execute_result"
    }
   ],
   "source": [
    "# sympy me da una funcion LUsolve\n",
    "A_simbolica.LUsolve(b)"
   ]
  },
  {
   "cell_type": "code",
   "execution_count": 28,
   "id": "phantom-celebrity",
   "metadata": {},
   "outputs": [
    {
     "data": {
      "text/plain": [
       "array([1., 0.])"
      ]
     },
     "execution_count": 28,
     "metadata": {},
     "output_type": "execute_result"
    }
   ],
   "source": [
    "A = np.array([\n",
    "    [1, 2],\n",
    "    [2, -3]\n",
    "])\n",
    "b = np.array([1, 2])\n",
    "np.linalg.solve(A, b)"
   ]
  },
  {
   "cell_type": "markdown",
   "id": "collective-creativity",
   "metadata": {},
   "source": [
    "# FUNCIONES"
   ]
  },
  {
   "cell_type": "code",
   "execution_count": 29,
   "id": "median-interview",
   "metadata": {},
   "outputs": [],
   "source": [
    "import matplotlib.pyplot as plt"
   ]
  },
  {
   "cell_type": "code",
   "execution_count": 30,
   "id": "verified-circle",
   "metadata": {},
   "outputs": [
    {
     "data": {
      "text/plain": [
       "[<matplotlib.lines.Line2D at 0x23296e97d00>]"
      ]
     },
     "execution_count": 30,
     "metadata": {},
     "output_type": "execute_result"
    },
    {
     "data": {
      "image/png": "[encoded data removed]",
      "text/plain": [
       "<Figure size 432x288 with 1 Axes>"
      ]
     },
     "metadata": {
      "needs_background": "light"
     },
     "output_type": "display_data"
    }
   ],
   "source": [
    "x = np.arange(-10, 10.005, 0.005)\n",
    "y = x ** 2\n",
    "plt.plot(x, y)"
   ]
  },
  {
   "cell_type": "code",
   "execution_count": 31,
   "id": "essential-stand",
   "metadata": {},
   "outputs": [
    {
     "data": {
      "text/plain": [
       "array([100.      ,  99.900025,  99.8001  , ...,  99.900025, 100.      ,\n",
       "       100.100025])"
      ]
     },
     "execution_count": 31,
     "metadata": {},
     "output_type": "execute_result"
    }
   ],
   "source": [
    "y = x ** 2\n",
    "y"
   ]
  },
  {
   "cell_type": "code",
   "execution_count": 32,
   "id": "apart-pacific",
   "metadata": {},
   "outputs": [
    {
     "ename": "TypeError",
     "evalue": "'NoneType' object is not iterable",
     "output_type": "error",
     "traceback": [
      "\u001b[1;31m---------------------------------------------------------------------------\u001b[0m",
      "\u001b[1;31mTypeError\u001b[0m                                 Traceback (most recent call last)",
      "\u001b[1;32m<ipython-input-32-455efcd017fb>\u001b[0m in \u001b[0;36m<module>\u001b[1;34m\u001b[0m\n\u001b[0;32m      1\u001b[0m \u001b[1;32mfrom\u001b[0m \u001b[0msympy\u001b[0m\u001b[1;33m.\u001b[0m\u001b[0mplotting\u001b[0m \u001b[1;32mimport\u001b[0m \u001b[0mplot3d\u001b[0m\u001b[1;33m\u001b[0m\u001b[1;33m\u001b[0m\u001b[0m\n\u001b[0;32m      2\u001b[0m \u001b[1;31m# f(x, y) = x * y\u001b[0m\u001b[1;33m\u001b[0m\u001b[1;33m\u001b[0m\u001b[1;33m\u001b[0m\u001b[0m\n\u001b[1;32m----> 3\u001b[1;33m \u001b[0mplot3d\u001b[0m\u001b[1;33m(\u001b[0m\u001b[0mx\u001b[0m \u001b[1;33m*\u001b[0m \u001b[0my\u001b[0m \u001b[1;33m+\u001b[0m \u001b[0mx\u001b[0m \u001b[1;33m**\u001b[0m \u001b[1;36m2\u001b[0m \u001b[1;33m*\u001b[0m \u001b[0my\u001b[0m\u001b[1;33m)\u001b[0m\u001b[1;33m\u001b[0m\u001b[1;33m\u001b[0m\u001b[0m\n\u001b[0m",
      "\u001b[1;32mc:\\users\\casa de jose\\appdata\\local\\programs\\python\\python38\\lib\\site-packages\\sympy\\plotting\\plot.py\u001b[0m in \u001b[0;36mplot3d\u001b[1;34m(show, *args, **kwargs)\u001b[0m\n\u001b[0;32m   2290\u001b[0m     \u001b[0mseries\u001b[0m \u001b[1;33m=\u001b[0m \u001b[1;33m[\u001b[0m\u001b[1;33m]\u001b[0m\u001b[1;33m\u001b[0m\u001b[1;33m\u001b[0m\u001b[0m\n\u001b[0;32m   2291\u001b[0m     \u001b[0mplot_expr\u001b[0m \u001b[1;33m=\u001b[0m \u001b[0mcheck_arguments\u001b[0m\u001b[1;33m(\u001b[0m\u001b[0margs\u001b[0m\u001b[1;33m,\u001b[0m \u001b[1;36m1\u001b[0m\u001b[1;33m,\u001b[0m \u001b[1;36m2\u001b[0m\u001b[1;33m)\u001b[0m\u001b[1;33m\u001b[0m\u001b[1;33m\u001b[0m\u001b[0m\n\u001b[1;32m-> 2292\u001b[1;33m     \u001b[0mseries\u001b[0m \u001b[1;33m=\u001b[0m \u001b[1;33m[\u001b[0m\u001b[0mSurfaceOver2DRangeSeries\u001b[0m\u001b[1;33m(\u001b[0m\u001b[1;33m*\u001b[0m\u001b[0marg\u001b[0m\u001b[1;33m,\u001b[0m \u001b[1;33m**\u001b[0m\u001b[0mkwargs\u001b[0m\u001b[1;33m)\u001b[0m \u001b[1;32mfor\u001b[0m \u001b[0marg\u001b[0m \u001b[1;32min\u001b[0m \u001b[0mplot_expr\u001b[0m\u001b[1;33m]\u001b[0m\u001b[1;33m\u001b[0m\u001b[1;33m\u001b[0m\u001b[0m\n\u001b[0m\u001b[0;32m   2293\u001b[0m     \u001b[0mxlabel\u001b[0m \u001b[1;33m=\u001b[0m \u001b[0mseries\u001b[0m\u001b[1;33m[\u001b[0m\u001b[1;36m0\u001b[0m\u001b[1;33m]\u001b[0m\u001b[1;33m.\u001b[0m\u001b[0mvar_x\u001b[0m\u001b[1;33m.\u001b[0m\u001b[0mname\u001b[0m\u001b[1;33m\u001b[0m\u001b[1;33m\u001b[0m\u001b[0m\n\u001b[0;32m   2294\u001b[0m     \u001b[0mylabel\u001b[0m \u001b[1;33m=\u001b[0m \u001b[0mseries\u001b[0m\u001b[1;33m[\u001b[0m\u001b[1;36m0\u001b[0m\u001b[1;33m]\u001b[0m\u001b[1;33m.\u001b[0m\u001b[0mvar_y\u001b[0m\u001b[1;33m.\u001b[0m\u001b[0mname\u001b[0m\u001b[1;33m\u001b[0m\u001b[1;33m\u001b[0m\u001b[0m\n",
      "\u001b[1;31mTypeError\u001b[0m: 'NoneType' object is not iterable"
     ]
    }
   ],
   "source": [
    "from sympy.plotting import plot3d\n",
    "# f(x, y) = x * y\n",
    "plot3d(x * y + x ** 2 * y)"
   ]
  },
  {
   "cell_type": "markdown",
   "id": "color-warning",
   "metadata": {},
   "source": [
    "# DERIVADAS\n",
    "Debo usar la función `diff`"
   ]
  },
  {
   "cell_type": "code",
   "execution_count": null,
   "id": "functional-interface",
   "metadata": {},
   "outputs": [],
   "source": [
    "ex_2"
   ]
  },
  {
   "cell_type": "code",
   "execution_count": null,
   "id": "charming-spanking",
   "metadata": {},
   "outputs": [],
   "source": [
    "ex_3 = sp.diff(ex_2)\n",
    "sp.diff(ex_3)"
   ]
  },
  {
   "cell_type": "code",
   "execution_count": null,
   "id": "numeric-curtis",
   "metadata": {},
   "outputs": [],
   "source": [
    "sp.diff(ex_2, x, 2)"
   ]
  },
  {
   "cell_type": "code",
   "execution_count": null,
   "id": "hourly-knight",
   "metadata": {},
   "outputs": [],
   "source": [
    "ex_3 = x * y + x ** 2 * y\n",
    "ex_3"
   ]
  },
  {
   "cell_type": "code",
   "execution_count": null,
   "id": "enclosed-option",
   "metadata": {},
   "outputs": [],
   "source": [
    "sp.diff(ex_3, x)"
   ]
  },
  {
   "cell_type": "markdown",
   "id": "synthetic-turkish",
   "metadata": {},
   "source": [
    "# INTEGRALES\n",
    "Debo usar la función `integrate`"
   ]
  },
  {
   "cell_type": "code",
   "execution_count": null,
   "id": "sudden-symphony",
   "metadata": {},
   "outputs": [],
   "source": [
    "sp.integrate(ex_2)"
   ]
  },
  {
   "cell_type": "code",
   "execution_count": null,
   "id": "constant-sailing",
   "metadata": {},
   "outputs": [],
   "source": [
    "sp.integrate((x**3 + x**2 - x - 1)/(x**2 + 2*x + 1))"
   ]
  },
  {
   "cell_type": "code",
   "execution_count": null,
   "id": "subsequent-insulation",
   "metadata": {},
   "outputs": [],
   "source": [
    "ex_3"
   ]
  },
  {
   "cell_type": "code",
   "execution_count": null,
   "id": "established-vertex",
   "metadata": {},
   "outputs": [],
   "source": [
    "sp.integrate(ex_3, y, y, x)"
   ]
  },
  {
   "cell_type": "code",
   "execution_count": null,
   "id": "naughty-duration",
   "metadata": {},
   "outputs": [],
   "source": [
    "sp.integrate(ex_2, (x, 0, 1))"
   ]
  },
  {
   "cell_type": "code",
   "execution_count": null,
   "id": "unlikely-croatia",
   "metadata": {},
   "outputs": [],
   "source": [
    "integral = sp.Integral(ex_2, (x, 0, 1))\n",
    "integral"
   ]
  },
  {
   "cell_type": "code",
   "execution_count": null,
   "id": "future-scotland",
   "metadata": {},
   "outputs": [],
   "source": [
    "integral.doit()"
   ]
  },
  {
   "cell_type": "code",
   "execution_count": null,
   "id": "handmade-scenario",
   "metadata": {},
   "outputs": [],
   "source": [
    "sp.integrate(x ** x, x)"
   ]
  },
  {
   "cell_type": "markdown",
   "id": "exciting-walter",
   "metadata": {},
   "source": [
    "# Diagramas de fuerzas internas"
   ]
  },
  {
   "cell_type": "code",
   "execution_count": 35,
   "id": "posted-hawaiian",
   "metadata": {},
   "outputs": [],
   "source": [
    "# en metros\n",
    "LONGITUD = 4\n",
    "# en kN\n",
    "CARGA_P = 100"
   ]
  },
  {
   "cell_type": "code",
   "execution_count": null,
   "id": "developmental-interface",
   "metadata": {},
   "outputs": [],
   "source": [
    "sp.plot((CARGA_P / 2, (x, 0, LONGITUD / 2)), (-CARGA_P / 2, (x, LONGITUD / 2, LONGITUD)))"
   ]
  },
  {
   "cell_type": "code",
   "execution_count": null,
   "id": "rising-exposure",
   "metadata": {},
   "outputs": [],
   "source": [
    "tramo_1 = CARGA_P * x / 2\n",
    "tramo_1"
   ]
  },
  {
   "cell_type": "code",
   "execution_count": null,
   "id": "demonstrated-beauty",
   "metadata": {},
   "outputs": [],
   "source": [
    "tramo_2 = CARGA_P / 2 * (LONGITUD - x)\n",
    "tramo_2"
   ]
  },
  {
   "cell_type": "code",
   "execution_count": null,
   "id": "friendly-representative",
   "metadata": {},
   "outputs": [],
   "source": [
    "sp.plot((tramo_1, (x, 0, LONGITUD / 2)), (tramo_2, (x, LONGITUD / 2, LONGITUD)))"
   ]
  },
  {
   "cell_type": "markdown",
   "id": "fatty-lesson",
   "metadata": {},
   "source": [
    "# Resolver vigas con Sympy"
   ]
  },
  {
   "cell_type": "code",
   "execution_count": 33,
   "id": "studied-prague",
   "metadata": {},
   "outputs": [],
   "source": [
    "from sympy.physics.continuum_mechanics.beam import Beam"
   ]
  },
  {
   "cell_type": "code",
   "execution_count": 36,
   "id": "regional-darkness",
   "metadata": {},
   "outputs": [],
   "source": [
    "E, I = sp.symbols('E I')\n",
    "viga = Beam(LONGITUD, E, I)\n",
    "\n",
    "# como aplico cargas, solicitaciones?\n",
    "# viga.apply_load(magnitud, ubicacion, tipo_solicitacion)\n",
    "viga.apply_load(CARGA_P, LONGITUD / 2, -1)\n",
    "# aplicar las reacciones\n",
    "R1, R2 = sp.symbols('R1 R2')\n",
    "viga.apply_load(R1, 0, -1)\n",
    "viga.apply_load(R2, LONGITUD, -1)\n",
    "# declarar que en A y B no hay deflexion, bc_deflection\n",
    "viga.bc_deflection = [(0, 0), (LONGITUD, 0)]\n",
    "# resolver sistema pasandole las reacciones\n",
    "viga.solve_for_reaction_loads(R1, R2)"
   ]
  },
  {
   "cell_type": "code",
   "execution_count": 37,
   "id": "ethical-stand",
   "metadata": {},
   "outputs": [
    {
     "data": {
      "image/png": "[encoded data removed]",
      "text/plain": [
       "<Figure size 432x288 with 1 Axes>"
      ]
     },
     "metadata": {
      "needs_background": "light"
     },
     "output_type": "display_data"
    }
   ],
   "source": [
    "dibujo = viga.draw()\n",
    "dibujo.show()"
   ]
  },
  {
   "cell_type": "code",
   "execution_count": 38,
   "id": "parliamentary-gauge",
   "metadata": {},
   "outputs": [
    {
     "data": {
      "image/png": "[encoded data removed]",
      "text/plain": [
       "<Figure size 432x288 with 1 Axes>"
      ]
     },
     "metadata": {
      "needs_background": "light"
     },
     "output_type": "display_data"
    },
    {
     "data": {
      "text/plain": [
       "<sympy.plotting.plot.Plot at 0x23298171c40>"
      ]
     },
     "execution_count": 38,
     "metadata": {},
     "output_type": "execute_result"
    }
   ],
   "source": [
    "# plot_shear_force para dibujar el diagrama cortate\n",
    "viga.plot_shear_force()"
   ]
  },
  {
   "cell_type": "code",
   "execution_count": 39,
   "id": "subsequent-praise",
   "metadata": {},
   "outputs": [
    {
     "data": {
      "image/png": "[encoded data removed]",
      "text/plain": [
       "<Figure size 432x288 with 1 Axes>"
      ]
     },
     "metadata": {
      "needs_background": "light"
     },
     "output_type": "display_data"
    },
    {
     "data": {
      "text/plain": [
       "<sympy.plotting.plot.Plot at 0x232981d03a0>"
      ]
     },
     "execution_count": 39,
     "metadata": {},
     "output_type": "execute_result"
    }
   ],
   "source": [
    "# graficar diagrama de momento\n",
    "viga.plot_bending_moment()"
   ]
  },
  {
   "cell_type": "code",
   "execution_count": null,
   "id": "still-reserve",
   "metadata": {},
   "outputs": [],
   "source": [
    "viga.max_bmoment()"
   ]
  },
  {
   "cell_type": "code",
   "execution_count": 41,
   "id": "coordinated-bulgarian",
   "metadata": {},
   "outputs": [
    {
     "data": {
      "text/latex": [
       "$\\displaystyle 50.0 {\\left\\langle x \\right\\rangle}^{1} - 100 {\\left\\langle x - 2.0 \\right\\rangle}^{1} + 50.0 {\\left\\langle x - 4 \\right\\rangle}^{1}$"
      ],
      "text/plain": [
       "50.0*SingularityFunction(x, 0, 1) - 100*SingularityFunction(x, 2.0, 1) + 50.0*SingularityFunction(x, 4, 1)"
      ]
     },
     "execution_count": 41,
     "metadata": {},
     "output_type": "execute_result"
    }
   ],
   "source": [
    "viga.bending_moment()"
   ]
  },
  {
   "cell_type": "code",
   "execution_count": 43,
   "id": "treated-baseball",
   "metadata": {},
   "outputs": [
    {
     "data": {
      "text/latex": [
       "$\\displaystyle 50.0 {\\left\\langle x \\right\\rangle}^{0} - 100 {\\left\\langle x - 2.0 \\right\\rangle}^{0} + 50.0 {\\left\\langle x - 4 \\right\\rangle}^{0}$"
      ],
      "text/plain": [
       "50.0*SingularityFunction(x, 0, 0) - 100*SingularityFunction(x, 2.0, 0) + 50.0*SingularityFunction(x, 4, 0)"
      ]
     },
     "execution_count": 43,
     "metadata": {},
     "output_type": "execute_result"
    }
   ],
   "source": [
    "viga.shear_force()"
   ]
  },
  {
   "cell_type": "code",
   "execution_count": 49,
   "id": "floral-editing",
   "metadata": {},
   "outputs": [
    {
     "data": {
      "text/plain": [
       "'odnuM aloH'"
      ]
     },
     "execution_count": 49,
     "metadata": {},
     "output_type": "execute_result"
    }
   ],
   "source": [
    "hola = 'Hola Mundo'\n",
    "hola[::-1]"
   ]
  },
  {
   "cell_type": "code",
   "execution_count": 62,
   "id": "capable-extreme",
   "metadata": {},
   "outputs": [
    {
     "data": {
      "text/plain": [
       "[9, 8, 7, 6, 5, 4, 3, 2, 1, 0]"
      ]
     },
     "execution_count": 62,
     "metadata": {},
     "output_type": "execute_result"
    }
   ],
   "source": [
    "longitud = len(hola)\n",
    "longitud\n",
    "posiciones"
   ]
  },
  {
   "cell_type": "code",
   "execution_count": 71,
   "id": "effective-courage",
   "metadata": {},
   "outputs": [
    {
     "data": {
      "text/plain": [
       "'odnuM aloH'"
      ]
     },
     "execution_count": 71,
     "metadata": {},
     "output_type": "execute_result"
    }
   ],
   "source": [
    "#1. Obtengo mi lista de posiciones\n",
    "posiciones = list(range(0, longitud))\n",
    "# 2. Invierto esas posiciones\n",
    "posiciones.reverse()\n",
    "\n",
    "resultado = ''\n",
    "for posicion in posiciones:\n",
    "    #3. accedo a cada posicion y voy sumando esos pequeños caracteres\n",
    "    resultado = resultado + hola[posicion]\n",
    "\n",
    "resultado"
   ]
  },
  {
   "cell_type": "code",
   "execution_count": 67,
   "id": "fourth-inspiration",
   "metadata": {},
   "outputs": [
    {
     "ename": "NameError",
     "evalue": "name 'pos' is not defined",
     "output_type": "error",
     "traceback": [
      "\u001b[1;31m---------------------------------------------------------------------------\u001b[0m",
      "\u001b[1;31mNameError\u001b[0m                                 Traceback (most recent call last)",
      "\u001b[1;32m<ipython-input-67-80ecae2a7487>\u001b[0m in \u001b[0;36m<module>\u001b[1;34m\u001b[0m\n\u001b[0;32m      1\u001b[0m \u001b[0mposiciones\u001b[0m\u001b[1;33m.\u001b[0m\u001b[0mreverse\u001b[0m\u001b[1;33m(\u001b[0m\u001b[1;33m)\u001b[0m\u001b[1;33m\u001b[0m\u001b[1;33m\u001b[0m\u001b[0m\n\u001b[1;32m----> 2\u001b[1;33m \u001b[0mpos\u001b[0m\u001b[1;33m\u001b[0m\u001b[1;33m\u001b[0m\u001b[0m\n\u001b[0m",
      "\u001b[1;31mNameError\u001b[0m: name 'pos' is not defined"
     ]
    }
   ],
   "source": [
    "posiciones.reverse()\n",
    "pos"
   ]
  },
  {
   "cell_type": "code",
   "execution_count": 72,
   "id": "clean-surfing",
   "metadata": {},
   "outputs": [
    {
     "data": {
      "text/plain": [
       "'od'"
      ]
     },
     "execution_count": 72,
     "metadata": {},
     "output_type": "execute_result"
    }
   ],
   "source": [
    "'' + 'o' + 'd'"
   ]
  },
  {
   "cell_type": "code",
   "execution_count": 75,
   "id": "instant-resolution",
   "metadata": {},
   "outputs": [
    {
     "data": {
      "text/plain": [
       "[9, 8, 7, 6, 5, 4, 3, 2, 1, 0]"
      ]
     },
     "execution_count": 75,
     "metadata": {},
     "output_type": "execute_result"
    }
   ],
   "source": [
    "list(range(longitud - 1, -1 , -1))"
   ]
  }
 ],
 "metadata": {
  "kernelspec": {
   "display_name": "Python 3",
   "language": "python",
   "name": "python3"
  },
  "language_info": {
   "codemirror_mode": {
    "name": "ipython",
    "version": 3
   },
   "file_extension": ".py",
   "mimetype": "text/x-python",
   "name": "python",
   "nbconvert_exporter": "python",
   "pygments_lexer": "ipython3",
   "version": "3.8.5"
  }
 },
 "nbformat": 4,
 "nbformat_minor": 5
}
