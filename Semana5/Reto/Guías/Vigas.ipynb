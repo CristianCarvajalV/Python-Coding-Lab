{
 "cells": [
  {
   "cell_type": "markdown",
   "id": "perfect-vacuum",
   "metadata": {},
   "source": [
    "# Funciones de cortante y momento"
   ]
  },
  {
   "cell_type": "code",
   "execution_count": 1,
   "id": "nutritional-mouse",
   "metadata": {},
   "outputs": [
    {
     "data": {
      "text/plain": [
       "<sympy.physics.continuum_mechanics.beam.Beam at 0x245ae5473a0>"
      ]
     },
     "execution_count": 1,
     "metadata": {},
     "output_type": "execute_result"
    }
   ],
   "source": [
    "from sympy.physics.continuum_mechanics.beam import Beam\n",
    "from sympy import symbols, simplify\n",
    "E, I = symbols('E, I')\n",
    "b = Beam(4, E, I)\n",
    "b"
   ]
  },
  {
   "cell_type": "markdown",
   "id": "developmental-repository",
   "metadata": {},
   "source": [
    "## Aplicar cargas en la viga\n",
    "Agregar cargas mediante `apply_load`. Los parámetros a pasar son:\n",
    "`apply_load(value, start, order, end=None)`\n"
   ]
  },
  {
   "cell_type": "markdown",
   "id": "popular-victor",
   "metadata": {},
   "source": [
    "### ORDER\n",
    "- For point loads, order =-1\n",
    "- For constant distributed load, order = 0\n",
    "- For ramp loads, order = 1\n",
    "- For parabolic ramp loads, order = 2\n",
    "\n",
    "> Nota El usuario debe tener cuidado al ingresar valores de carga. La función de dibujo asume una convención de signos que se utiliza para trazar cargas. Dado un sistema de coordenadas de mano derecha con coordenadas XYZ, se supone que la longitud de la viga está a lo largo del eje X positivo. La función de dibujo reconoce las cargas positivas (con n> -2) como cargas que actúan a lo largo de la dirección Y negativa y momentos positivos que actúan a lo largo de la dirección Z positiva."
   ]
  },
  {
   "cell_type": "code",
   "execution_count": 2,
   "id": "rocky-adoption",
   "metadata": {},
   "outputs": [],
   "source": [
    "# momento aplicado en sentido horario al principio\n",
    "b.apply_load(-3, 0, -2)\n",
    "# carga de 4 N a 2m\n",
    "b.apply_load(4, 2, -1)\n",
    "# carga de 5 N a 2m\n",
    "b.apply_load(5, 2, -1)"
   ]
  },
  {
   "cell_type": "markdown",
   "id": "bright-authority",
   "metadata": {},
   "source": [
    "Agregar apoyos con `apply_support`, los cuales son tres diferentes tipos:\n",
    "- `roller`\n",
    "- `pin`\n",
    "- `fixed`\n",
    "> Hay una viga de 30 metros de longitud. Se aplica un momento de magnitud 120 Nm en el sentido de las agujas del reloj al final de su longitud. Se aplica una carga puntual de magnitud 8 N desde la parte superior de la viga en el punto de partida. Hay dos soportes simples debajo de la viga. Uno al final y otro a 10 metros del inicio. La deflexión está restringida en ambos apoyos."
   ]
  },
  {
   "cell_type": "code",
   "execution_count": 18,
   "id": "unusual-accessory",
   "metadata": {},
   "outputs": [],
   "source": [
    "E, I = symbols('E, I')\n",
    "b = Beam(30, E, I)\n",
    "# momento aplicado en sentido horario al principio\n",
    "b.apply_load(120, 30, -2)\n",
    "# carga de 8 N \n",
    "b.apply_load(-8, 0, -1)\n",
    "# aplicar apoyos tipo roler\n",
    "b.apply_support(10, 'roller')\n",
    "b.apply_support(30, 'roller')\n",
    "# variables de las reacciones\n",
    "R_10, R_30 = symbols('R_10, R_30')\n",
    "# calcular reaccinoes\n",
    "b.solve_for_reaction_loads(R_10, R_30)"
   ]
  },
  {
   "cell_type": "markdown",
   "id": "subsequent-viking",
   "metadata": {},
   "source": [
    "## Dibujar viga\n",
    "Por medio de la función `draw`"
   ]
  },
  {
   "cell_type": "code",
   "execution_count": 6,
   "id": "crucial-flash",
   "metadata": {},
   "outputs": [
    {
     "data": {
      "image/png": "[encoded data removed]",
      "text/plain": [
       "<Figure size 432x288 with 1 Axes>"
      ]
     },
     "metadata": {
      "needs_background": "light"
     },
     "output_type": "display_data"
    }
   ],
   "source": [
    "p = b.draw()\n",
    "p.show()"
   ]
  },
  {
   "cell_type": "code",
   "execution_count": 16,
   "id": "difficult-federation",
   "metadata": {},
   "outputs": [
    {
     "data": {
      "image/png": "[encoded data removed]",
      "text/plain": [
       "<Figure size 432x288 with 1 Axes>"
      ]
     },
     "metadata": {
      "needs_background": "light"
     },
     "output_type": "display_data"
    }
   ],
   "source": [
    "# EJEMPLO 2\n",
    "R1, R2 = symbols('R1, R2')\n",
    "# E, I = symbols('E, I')\n",
    "b = Beam(50, 20, 30)\n",
    "b.apply_load(10, 2, -1)\n",
    "b.apply_load(R1, 10, -1)\n",
    "b.apply_load(R2, 30, -1)\n",
    "b.apply_load(90, 5, 0, 23)\n",
    "b.apply_load(10, 30, 1, 50)\n",
    "b.apply_support(50, \"pin\")\n",
    "b.apply_support(0, \"fixed\")\n",
    "b.apply_support(20, \"roller\")\n",
    "p = b.draw()\n",
    "p.show()"
   ]
  },
  {
   "cell_type": "markdown",
   "id": "excellent-ghost",
   "metadata": {},
   "source": [
    "# Diagrama de momento\n",
    "Se puede obtener de la viga por medio de la función `plot_bending_moment` "
   ]
  },
  {
   "cell_type": "markdown",
   "id": "twelve-raising",
   "metadata": {},
   "source": [
    "> Hay una manga de 8 metros de largo. Se aplica una carga distribuida constante de 10 KN / m desde la mitad de la viga hasta el final. Hay dos soportes simples debajo de la viga, uno en el punto de inicio y otro en el punto final de la viga. También se aplica una carga puntual de magnitud 5 KN desde la parte superior del haz, a una distancia de 4 metros del punto de partida. Tome E = 200 GPa e I = 400 * (10 ** - 6) metro ** 4."
   ]
  },
  {
   "cell_type": "code",
   "execution_count": 29,
   "id": "threatened-southeast",
   "metadata": {},
   "outputs": [
    {
     "data": {
      "image/png": "[encoded data removed]",
      "text/plain": [
       "<Figure size 432x288 with 1 Axes>"
      ]
     },
     "metadata": {
      "needs_background": "light"
     },
     "output_type": "display_data"
    },
    {
     "data": {
      "text/plain": [
       "<sympy.plotting.plot.Plot at 0x17ea3a2afa0>"
      ]
     },
     "execution_count": 29,
     "metadata": {},
     "output_type": "execute_result"
    }
   ],
   "source": [
    "R1, R2 = symbols('R1, R2')\n",
    "b = Beam(8, 200*(10**9), 400*(10**-6))\n",
    "b.apply_load(5000, 2, -1)\n",
    "b.apply_load(R1, 0, -1)\n",
    "b.apply_load(R2, 8, -1)\n",
    "b.apply_load(10000, 4, 0, end=8)\n",
    "b.bc_deflection = [(0, 0), (8, 0)]\n",
    "# resolver \n",
    "b.solve_for_reaction_loads(R1, R2)\n",
    "b.plot_bending_moment()\n"
   ]
  },
  {
   "cell_type": "code",
   "execution_count": null,
   "id": "foreign-blowing",
   "metadata": {},
   "outputs": [],
   "source": []
  },
  {
   "cell_type": "markdown",
   "id": "incomplete-investigation",
   "metadata": {},
   "source": [
    "# Diagrama de fuerza cortante\n",
    "Se puede obtener de la viga por medio de la función `plot_shear_force` "
   ]
  },
  {
   "cell_type": "code",
   "execution_count": 19,
   "id": "matched-planner",
   "metadata": {},
   "outputs": [
    {
     "data": {
      "image/png": "[encoded data removed]",
      "text/plain": [
       "<Figure size 432x288 with 1 Axes>"
      ]
     },
     "metadata": {
      "needs_background": "light"
     },
     "output_type": "display_data"
    },
    {
     "data": {
      "text/plain": [
       "(Interval(0, 10), 8)"
      ]
     },
     "execution_count": 19,
     "metadata": {},
     "output_type": "execute_result"
    }
   ],
   "source": [
    "b.plot_shear_force()\n",
    "b.max_shear_force()"
   ]
  },
  {
   "cell_type": "code",
   "execution_count": 34,
   "id": "infectious-argentina",
   "metadata": {},
   "outputs": [
    {
     "data": {
      "image/png": "[encoded data removed]",
      "text/plain": [
       "<Figure size 432x288 with 1 Axes>"
      ]
     },
     "metadata": {
      "needs_background": "light"
     },
     "output_type": "display_data"
    }
   ],
   "source": [
    "p = b.draw()\n",
    "p.show()"
   ]
  },
  {
   "cell_type": "markdown",
   "id": "greenhouse-australian",
   "metadata": {},
   "source": [
    "# EJEMPLO PRÁCTICO"
   ]
  },
  {
   "cell_type": "code",
   "execution_count": 2,
   "id": "departmental-flour",
   "metadata": {},
   "outputs": [
    {
     "data": {
      "image/png": "[encoded data removed]",
      "text/plain": [
       "<Figure size 432x288 with 1 Axes>"
      ]
     },
     "metadata": {
      "needs_background": "light"
     },
     "output_type": "display_data"
    },
    {
     "data": {
      "text/plain": [
       "<sympy.plotting.plot.Plot at 0x245bf03ae20>"
      ]
     },
     "execution_count": 2,
     "metadata": {},
     "output_type": "execute_result"
    }
   ],
   "source": [
    "R1, R2 = symbols('R1, R2')\n",
    "b = Beam(4, 200*(10**9), 400*(10**-6))\n",
    "b.apply_load(100, 2, -1)\n",
    "b.apply_load(R1, 0, -1)\n",
    "b.apply_load(R2, 4, -1)\n",
    "b.bc_deflection = [(0, 0), (4, 0)]\n",
    "b.solve_for_reaction_loads(R1, R2)\n",
    "b.plot_bending_moment()\n"
   ]
  },
  {
   "cell_type": "code",
   "execution_count": 3,
   "id": "instant-spray",
   "metadata": {},
   "outputs": [
    {
     "data": {
      "image/png": "[encoded data removed]",
      "text/plain": [
       "<Figure size 432x288 with 1 Axes>"
      ]
     },
     "metadata": {
      "needs_background": "light"
     },
     "output_type": "display_data"
    },
    {
     "data": {
      "text/plain": [
       "<sympy.plotting.plot.Plot at 0x245bef78f40>"
      ]
     },
     "execution_count": 3,
     "metadata": {},
     "output_type": "execute_result"
    }
   ],
   "source": [
    "b.plot_shear_force()"
   ]
  }
 ],
 "metadata": {
  "kernelspec": {
   "display_name": "Python 3",
   "language": "python",
   "name": "python3"
  },
  "language_info": {
   "codemirror_mode": {
    "name": "ipython",
    "version": 3
   },
   "file_extension": ".py",
   "mimetype": "text/x-python",
   "name": "python",
   "nbconvert_exporter": "python",
   "pygments_lexer": "ipython3",
   "version": "3.8.5"
  }
 },
 "nbformat": 4,
 "nbformat_minor": 5
}
